{
  "nbformat": 4,
  "nbformat_minor": 0,
  "metadata": {
    "colab": {
      "provenance": [],
      "include_colab_link": true
    },
    "kernelspec": {
      "name": "python3",
      "display_name": "Python 3"
    },
    "language_info": {
      "name": "python"
    }
  },
  "cells": [
    {
      "cell_type": "markdown",
      "metadata": {
        "id": "view-in-github",
        "colab_type": "text"
      },
      "source": [
        "<a href=\"https://colab.research.google.com/github/Mubashar-Bashir/OpenAI-SDK/blob/main/context_openai_agents_sdk.ipynb\" target=\"_parent\"><img src=\"https://colab.research.google.com/assets/colab-badge.svg\" alt=\"Open In Colab\"/></a>"
      ]
    },
    {
      "cell_type": "markdown",
      "metadata": {
        "id": "PdKwzEluDBN7"
      },
      "source": [
        "# Install openai-agents SDK"
      ]
    },
    {
      "cell_type": "code",
      "execution_count": 1,
      "metadata": {
        "id": "3QdkOviEB2ay",
        "colab": {
          "base_uri": "https://localhost:8080/"
        },
        "outputId": "31b1a6b5-852a-4353-e1d1-54bdb338bd24"
      },
      "outputs": [
        {
          "output_type": "stream",
          "name": "stdout",
          "text": [
            "\u001b[?25l   \u001b[90m━━━━━━━━━━━━━━━━━━━━━━━━━━━━━━━━━━━━━━━━\u001b[0m \u001b[32m0.0/117.2 kB\u001b[0m \u001b[31m?\u001b[0m eta \u001b[36m-:--:--\u001b[0m\r\u001b[2K   \u001b[90m━━━━━━━━━━━━━━━━━━━━━━━━━━━━━━━━━━━━━━━━\u001b[0m \u001b[32m117.2/117.2 kB\u001b[0m \u001b[31m5.5 MB/s\u001b[0m eta \u001b[36m0:00:00\u001b[0m\n",
            "\u001b[?25h\u001b[?25l   \u001b[90m━━━━━━━━━━━━━━━━━━━━━━━━━━━━━━━━━━━━━━━━\u001b[0m \u001b[32m0.0/129.3 kB\u001b[0m \u001b[31m?\u001b[0m eta \u001b[36m-:--:--\u001b[0m\r\u001b[2K   \u001b[90m━━━━━━━━━━━━━━━━━━━━━━━━━━━━━━━━━━━━━━━━\u001b[0m \u001b[32m129.3/129.3 kB\u001b[0m \u001b[31m5.8 MB/s\u001b[0m eta \u001b[36m0:00:00\u001b[0m\n",
            "\u001b[?25h\u001b[?25l   \u001b[90m━━━━━━━━━━━━━━━━━━━━━━━━━━━━━━━━━━━━━━━━\u001b[0m \u001b[32m0.0/125.1 kB\u001b[0m \u001b[31m?\u001b[0m eta \u001b[36m-:--:--\u001b[0m\r\u001b[2K   \u001b[90m━━━━━━━━━━━━━━━━━━━━━━━━━━━━━━━━━━━━━━━━\u001b[0m \u001b[32m125.1/125.1 kB\u001b[0m \u001b[31m8.1 MB/s\u001b[0m eta \u001b[36m0:00:00\u001b[0m\n",
            "\u001b[2K   \u001b[90m━━━━━━━━━━━━━━━━━━━━━━━━━━━━━━━━━━━━━━━━\u001b[0m \u001b[32m44.4/44.4 kB\u001b[0m \u001b[31m3.1 MB/s\u001b[0m eta \u001b[36m0:00:00\u001b[0m\n",
            "\u001b[2K   \u001b[90m━━━━━━━━━━━━━━━━━━━━━━━━━━━━━━━━━━━━━━━━\u001b[0m \u001b[32m72.0/72.0 kB\u001b[0m \u001b[31m5.3 MB/s\u001b[0m eta \u001b[36m0:00:00\u001b[0m\n",
            "\u001b[2K   \u001b[90m━━━━━━━━━━━━━━━━━━━━━━━━━━━━━━━━━━━━━━━━\u001b[0m \u001b[32m62.5/62.5 kB\u001b[0m \u001b[31m4.3 MB/s\u001b[0m eta \u001b[36m0:00:00\u001b[0m\n",
            "\u001b[?25h"
          ]
        }
      ],
      "source": [
        "!pip install -Uq openai-agents"
      ]
    },
    {
      "cell_type": "markdown",
      "metadata": {
        "id": "7yD91lz4DIAx"
      },
      "source": [
        "# Make your Notebook capable of running asynchronous functions.\n",
        "Both Jupyter notebooks and Python’s asyncio library utilize event loops, but they serve different purposes and can sometimes interfere with each other.\n",
        "\n",
        "The nest_asyncio library allows the existing event loop to accept nested event loops, enabling asyncio code to run within environments that already have an event loop, such as Jupyter notebooks.\n",
        "\n",
        "In summary, both Jupyter notebooks and Python’s asyncio library utilize event loops to manage asynchronous operations. When working within Jupyter notebooks, it’s essential to be aware of the existing event loop to effectively run asyncio code without conflicts."
      ]
    },
    {
      "cell_type": "code",
      "source": [
        "import nest_asyncio\n",
        "nest_asyncio.apply()"
      ],
      "metadata": {
        "id": "C8YXyIpiZ9v4"
      },
      "execution_count": 2,
      "outputs": []
    },
    {
      "cell_type": "markdown",
      "source": [
        "# Config"
      ],
      "metadata": {
        "id": "wQsVowow7ihQ"
      }
    },
    {
      "cell_type": "code",
      "execution_count": 3,
      "metadata": {
        "id": "XnusaX_RWF22"
      },
      "outputs": [],
      "source": [
        "from pydantic import BaseModel\n",
        "from agents import (\n",
        "    AsyncOpenAI,\n",
        "    OpenAIChatCompletionsModel,\n",
        "    RunConfig\n",
        ")\n",
        "from google.colab import userdata\n"
      ]
    },
    {
      "cell_type": "code",
      "source": [
        "gemini_api_key = userdata.get(\"GEMINI_API_KEY\")\n",
        "\n",
        "\n",
        "# Check if the API key is present; if not, raise an error\n",
        "if not gemini_api_key:\n",
        "    raise ValueError(\"GEMINI_API_KEY is not set. Please ensure it is defined in your .env file.\")\n",
        "\n",
        "#Reference: https://ai.google.dev/gemini-api/docs/openai\n",
        "external_client = AsyncOpenAI(\n",
        "    api_key=gemini_api_key,\n",
        "    base_url=\"https://generativelanguage.googleapis.com/v1beta/openai/\",\n",
        ")\n",
        "\n",
        "model = OpenAIChatCompletionsModel(\n",
        "    model=\"gemini-2.0-flash\",\n",
        "    openai_client=external_client\n",
        ")"
      ],
      "metadata": {
        "id": "oPvcFwItoKqw"
      },
      "execution_count": 4,
      "outputs": []
    },
    {
      "cell_type": "code",
      "source": [
        "from agents import set_default_openai_client, set_tracing_disabled\n",
        "set_default_openai_client(external_client)\n",
        "set_tracing_disabled(True)"
      ],
      "metadata": {
        "id": "y9LkW-F7nC3T"
      },
      "execution_count": 5,
      "outputs": []
    },
    {
      "cell_type": "markdown",
      "source": [
        "# Context Management\n",
        "\n",
        "\n",
        "Context available locally to your code: this is data and dependencies you might need when tool functions run, during callbacks like on_handoff, in lifecycle hooks, etc.\n",
        "- You create any Python object you want. A common pattern is to use a dataclass or a Pydantic object.\n",
        "- You pass that object to the various run methods (e.g. Runner.run(..., **context=whatever**)).\n",
        "- All your tool calls, lifecycle hooks etc will be passed a wrapper object, - RunContextWrapper[T], where T represents your context object type which you can access via wrapper.context.\n",
        "- The most important thing to be aware of: every agent, tool function, lifecycle etc for a given agent run must use the same type of context.\n",
        "\n",
        "You can use the context for things like:\n",
        "- Contextual data for your run (e.g. things like a username/uid or other information about the user)\n",
        "- Dependencies (e.g. logger objects, data fetchers, etc)\n",
        "- Helper functions\n",
        "\n",
        "[Learning Reference](https://openai.github.io/openai-agents-python/context/)"
      ],
      "metadata": {
        "id": "rWL7EnI_7mIF"
      }
    },
    {
      "cell_type": "markdown",
      "source": [
        "# Local Context"
      ],
      "metadata": {
        "id": "ZRKxdIYbnL6w"
      }
    },
    {
      "cell_type": "code",
      "source": [
        "from agents import enable_verbose_stdout_logging, set_tracing_disabled\n",
        "set_tracing_disabled(True)\n",
        "# enable_verbose_stdout_logging()"
      ],
      "metadata": {
        "id": "joLoPX_amHQD"
      },
      "execution_count": 13,
      "outputs": []
    },
    {
      "cell_type": "code",
      "source": [
        "import asyncio\n",
        "from dataclasses import dataclass\n",
        "\n",
        "from agents import Agent, RunContextWrapper, Runner, function_tool\n",
        "\n",
        "@dataclass\n",
        "class UserInfo1:\n",
        "    name: str\n",
        "    uid: int\n",
        "    cell:str | None\n",
        "    Address: str|None\n",
        "    Account_Number:str = \"ALF12345563\"\n",
        "    location: str = \"Pakistan\"\n",
        "    balance: float = 0.0\n",
        "\n",
        "\n",
        "@function_tool\n",
        "async def fetch_user_age(wrapper: RunContextWrapper[UserInfo1]) -> str:\n",
        "    '''Returns the age of the user.'''\n",
        "    print(\"wrapper User Age >>> \",wrapper)\n",
        "    return f\"User {wrapper.context.name} is 30 years old\"\n",
        "\n",
        "@function_tool\n",
        "async def fetch_user_location(wrapper: RunContextWrapper[UserInfo1]) -> str:\n",
        "    '''Returns the location of the user.'''\n",
        "    print(\"wrapper Location >>> \",wrapper)\n",
        "    return f\"User {wrapper.context.name} is from {wrapper.context.location}\"\n",
        "#to add for user payment to his account\n",
        "@function_tool\n",
        "async def user_payment(wrapper: RunContextWrapper[UserInfo1], amount: float) -> str:\n",
        "    '''Adds the specified amount to the user's account balance.'''\n",
        "    print(\"wrapper Payment >>> \",wrapper.context.balance)\n",
        "    print(\"Amount recived>>>\", amount)\n",
        "\n",
        "    account_number=wrapper.context.Account_Number\n",
        "    print(f\" Account number = {wrapper.context.Account_Number}\")\n",
        "    Balance=wrapper.context.balance + float(amount)\n",
        "    wrapper.context.balance = Balance\n",
        "    return f\"User Balance# {wrapper.context.balance}\"\n",
        "# show the balance Amount of user\n",
        "@function_tool\n",
        "async def check_balance(wrapper: RunContextWrapper[UserInfo1]) -> str:\n",
        "    '''Returns the current account balance of the user.'''\n",
        "    return f\"User {wrapper.context.name}'s account balance is {wrapper.context.balance} Rupees.\"\n",
        "#create\n",
        "\n",
        "async def main():\n",
        "    user_info = UserInfo1(name=\"Muhammad Qasim\", uid=123, location=\"KHI\", cell=\"03446062616\",Address=\"GRW\")\n",
        "\n",
        "    agent = Agent[UserInfo1](\n",
        "        name=\"Assistant\",\n",
        "        instructions=\"Assistant can help user to add Balance in the said Account\",\n",
        "        tools=[fetch_user_age,fetch_user_location,user_payment,check_balance],\n",
        "        model=model\n",
        "    )\n",
        "\n",
        "    result = await Runner.run(\n",
        "        starting_agent=agent,\n",
        "        input=\"Add 15Lac Rupees to the Muhammad Qasim Account, check the Balance\",\n",
        "        # input=\"which tool are you using for adding amount into user account , and tell me the account nUmber\",\n",
        "        context=user_info,\n",
        "    )\n",
        "\n",
        "    print(result.final_output)\n",
        "    # The user John is 47 years old.\n",
        "\n",
        "if __name__ == \"__main__\":\n",
        "    asyncio.run(main())"
      ],
      "metadata": {
        "colab": {
          "base_uri": "https://localhost:8080/"
        },
        "id": "uLTfHV0CnNgJ",
        "outputId": "7be76fbb-cd82-4b64-92d1-6b6c26857dec"
      },
      "execution_count": 23,
      "outputs": [
        {
          "output_type": "stream",
          "name": "stdout",
          "text": [
            "Tracing is disabled. Not creating trace Agent workflow\n"
          ]
        },
        {
          "output_type": "stream",
          "name": "stderr",
          "text": [
            "DEBUG:openai.agents:Tracing is disabled. Not creating trace Agent workflow\n"
          ]
        },
        {
          "output_type": "stream",
          "name": "stdout",
          "text": [
            "Setting current trace: no-op\n"
          ]
        },
        {
          "output_type": "stream",
          "name": "stderr",
          "text": [
            "DEBUG:openai.agents:Setting current trace: no-op\n"
          ]
        },
        {
          "output_type": "stream",
          "name": "stdout",
          "text": [
            "Tracing is disabled. Not creating span <agents.tracing.span_data.AgentSpanData object at 0x7d372b4b4cb0>\n"
          ]
        },
        {
          "output_type": "stream",
          "name": "stderr",
          "text": [
            "DEBUG:openai.agents:Tracing is disabled. Not creating span <agents.tracing.span_data.AgentSpanData object at 0x7d372b4b4cb0>\n"
          ]
        },
        {
          "output_type": "stream",
          "name": "stdout",
          "text": [
            "Running agent Assistant (turn 1)\n"
          ]
        },
        {
          "output_type": "stream",
          "name": "stderr",
          "text": [
            "DEBUG:openai.agents:Running agent Assistant (turn 1)\n"
          ]
        },
        {
          "output_type": "stream",
          "name": "stdout",
          "text": [
            "Tracing is disabled. Not creating span <agents.tracing.span_data.GenerationSpanData object at 0x7d372b4b5730>\n"
          ]
        },
        {
          "output_type": "stream",
          "name": "stderr",
          "text": [
            "DEBUG:openai.agents:Tracing is disabled. Not creating span <agents.tracing.span_data.GenerationSpanData object at 0x7d372b4b5730>\n"
          ]
        },
        {
          "output_type": "stream",
          "name": "stdout",
          "text": [
            "[\n",
            "  {\n",
            "    \"content\": \"Assistant can help user to add Balance in the said Account\",\n",
            "    \"role\": \"system\"\n",
            "  },\n",
            "  {\n",
            "    \"role\": \"user\",\n",
            "    \"content\": \"Add 15Lac Rupees to the Muhammad Qasim Account, check the Balance\"\n",
            "  }\n",
            "]\n",
            "Tools:\n",
            "[\n",
            "  {\n",
            "    \"type\": \"function\",\n",
            "    \"function\": {\n",
            "      \"name\": \"fetch_user_age\",\n",
            "      \"description\": \"Returns the age of the user.\",\n",
            "      \"parameters\": {\n",
            "        \"properties\": {},\n",
            "        \"title\": \"fetch_user_age_args\",\n",
            "        \"type\": \"object\",\n",
            "        \"additionalProperties\": false,\n",
            "        \"required\": []\n",
            "      }\n",
            "    }\n",
            "  },\n",
            "  {\n",
            "    \"type\": \"function\",\n",
            "    \"function\": {\n",
            "      \"name\": \"fetch_user_location\",\n",
            "      \"description\": \"Returns the location of the user.\",\n",
            "      \"parameters\": {\n",
            "        \"properties\": {},\n",
            "        \"title\": \"fetch_user_location_args\",\n",
            "        \"type\": \"object\",\n",
            "        \"additionalProperties\": false,\n",
            "        \"required\": []\n",
            "      }\n",
            "    }\n",
            "  },\n",
            "  {\n",
            "    \"type\": \"function\",\n",
            "    \"function\": {\n",
            "      \"name\": \"user_payment\",\n",
            "      \"description\": \"Adds the specified amount to the user's account balance.\",\n",
            "      \"parameters\": {\n",
            "        \"properties\": {\n",
            "          \"amount\": {\n",
            "            \"title\": \"Amount\",\n",
            "            \"type\": \"number\"\n",
            "          }\n",
            "        },\n",
            "        \"required\": [\n",
            "          \"amount\"\n",
            "        ],\n",
            "        \"title\": \"user_payment_args\",\n",
            "        \"type\": \"object\",\n",
            "        \"additionalProperties\": false\n",
            "      }\n",
            "    }\n",
            "  },\n",
            "  {\n",
            "    \"type\": \"function\",\n",
            "    \"function\": {\n",
            "      \"name\": \"check_balance\",\n",
            "      \"description\": \"Returns the current account balance of the user.\",\n",
            "      \"parameters\": {\n",
            "        \"properties\": {},\n",
            "        \"title\": \"check_balance_args\",\n",
            "        \"type\": \"object\",\n",
            "        \"additionalProperties\": false,\n",
            "        \"required\": []\n",
            "      }\n",
            "    }\n",
            "  }\n",
            "]\n",
            "Stream: False\n",
            "Tool choice: NOT_GIVEN\n",
            "Response format: NOT_GIVEN\n",
            "\n"
          ]
        },
        {
          "output_type": "stream",
          "name": "stderr",
          "text": [
            "DEBUG:openai.agents:[\n",
            "  {\n",
            "    \"content\": \"Assistant can help user to add Balance in the said Account\",\n",
            "    \"role\": \"system\"\n",
            "  },\n",
            "  {\n",
            "    \"role\": \"user\",\n",
            "    \"content\": \"Add 15Lac Rupees to the Muhammad Qasim Account, check the Balance\"\n",
            "  }\n",
            "]\n",
            "Tools:\n",
            "[\n",
            "  {\n",
            "    \"type\": \"function\",\n",
            "    \"function\": {\n",
            "      \"name\": \"fetch_user_age\",\n",
            "      \"description\": \"Returns the age of the user.\",\n",
            "      \"parameters\": {\n",
            "        \"properties\": {},\n",
            "        \"title\": \"fetch_user_age_args\",\n",
            "        \"type\": \"object\",\n",
            "        \"additionalProperties\": false,\n",
            "        \"required\": []\n",
            "      }\n",
            "    }\n",
            "  },\n",
            "  {\n",
            "    \"type\": \"function\",\n",
            "    \"function\": {\n",
            "      \"name\": \"fetch_user_location\",\n",
            "      \"description\": \"Returns the location of the user.\",\n",
            "      \"parameters\": {\n",
            "        \"properties\": {},\n",
            "        \"title\": \"fetch_user_location_args\",\n",
            "        \"type\": \"object\",\n",
            "        \"additionalProperties\": false,\n",
            "        \"required\": []\n",
            "      }\n",
            "    }\n",
            "  },\n",
            "  {\n",
            "    \"type\": \"function\",\n",
            "    \"function\": {\n",
            "      \"name\": \"user_payment\",\n",
            "      \"description\": \"Adds the specified amount to the user's account balance.\",\n",
            "      \"parameters\": {\n",
            "        \"properties\": {\n",
            "          \"amount\": {\n",
            "            \"title\": \"Amount\",\n",
            "            \"type\": \"number\"\n",
            "          }\n",
            "        },\n",
            "        \"required\": [\n",
            "          \"amount\"\n",
            "        ],\n",
            "        \"title\": \"user_payment_args\",\n",
            "        \"type\": \"object\",\n",
            "        \"additionalProperties\": false\n",
            "      }\n",
            "    }\n",
            "  },\n",
            "  {\n",
            "    \"type\": \"function\",\n",
            "    \"function\": {\n",
            "      \"name\": \"check_balance\",\n",
            "      \"description\": \"Returns the current account balance of the user.\",\n",
            "      \"parameters\": {\n",
            "        \"properties\": {},\n",
            "        \"title\": \"check_balance_args\",\n",
            "        \"type\": \"object\",\n",
            "        \"additionalProperties\": false,\n",
            "        \"required\": []\n",
            "      }\n",
            "    }\n",
            "  }\n",
            "]\n",
            "Stream: False\n",
            "Tool choice: NOT_GIVEN\n",
            "Response format: NOT_GIVEN\n",
            "\n"
          ]
        },
        {
          "output_type": "stream",
          "name": "stdout",
          "text": [
            "LLM resp:\n",
            "{\n",
            "  \"content\": null,\n",
            "  \"refusal\": null,\n",
            "  \"role\": \"assistant\",\n",
            "  \"annotations\": null,\n",
            "  \"audio\": null,\n",
            "  \"function_call\": null,\n",
            "  \"tool_calls\": [\n",
            "    {\n",
            "      \"id\": \"\",\n",
            "      \"function\": {\n",
            "        \"arguments\": \"{\\\"amount\\\":1500000}\",\n",
            "        \"name\": \"user_payment\"\n",
            "      },\n",
            "      \"type\": \"function\"\n",
            "    },\n",
            "    {\n",
            "      \"id\": \"\",\n",
            "      \"function\": {\n",
            "        \"arguments\": \"{}\",\n",
            "        \"name\": \"check_balance\"\n",
            "      },\n",
            "      \"type\": \"function\"\n",
            "    }\n",
            "  ]\n",
            "}\n",
            "\n"
          ]
        },
        {
          "output_type": "stream",
          "name": "stderr",
          "text": [
            "DEBUG:openai.agents:LLM resp:\n",
            "{\n",
            "  \"content\": null,\n",
            "  \"refusal\": null,\n",
            "  \"role\": \"assistant\",\n",
            "  \"annotations\": null,\n",
            "  \"audio\": null,\n",
            "  \"function_call\": null,\n",
            "  \"tool_calls\": [\n",
            "    {\n",
            "      \"id\": \"\",\n",
            "      \"function\": {\n",
            "        \"arguments\": \"{\\\"amount\\\":1500000}\",\n",
            "        \"name\": \"user_payment\"\n",
            "      },\n",
            "      \"type\": \"function\"\n",
            "    },\n",
            "    {\n",
            "      \"id\": \"\",\n",
            "      \"function\": {\n",
            "        \"arguments\": \"{}\",\n",
            "        \"name\": \"check_balance\"\n",
            "      },\n",
            "      \"type\": \"function\"\n",
            "    }\n",
            "  ]\n",
            "}\n",
            "\n"
          ]
        },
        {
          "output_type": "stream",
          "name": "stdout",
          "text": [
            "Tracing is disabled. Not creating span <agents.tracing.span_data.FunctionSpanData object at 0x7d372b4b5490>\n"
          ]
        },
        {
          "output_type": "stream",
          "name": "stderr",
          "text": [
            "DEBUG:openai.agents:Tracing is disabled. Not creating span <agents.tracing.span_data.FunctionSpanData object at 0x7d372b4b5490>\n"
          ]
        },
        {
          "output_type": "stream",
          "name": "stdout",
          "text": [
            "Tracing is disabled. Not creating span <agents.tracing.span_data.FunctionSpanData object at 0x7d372b4b5d90>\n"
          ]
        },
        {
          "output_type": "stream",
          "name": "stderr",
          "text": [
            "DEBUG:openai.agents:Tracing is disabled. Not creating span <agents.tracing.span_data.FunctionSpanData object at 0x7d372b4b5d90>\n"
          ]
        },
        {
          "output_type": "stream",
          "name": "stdout",
          "text": [
            "Invoking tool user_payment with input {\"amount\":1500000}\n"
          ]
        },
        {
          "output_type": "stream",
          "name": "stderr",
          "text": [
            "DEBUG:openai.agents:Invoking tool user_payment with input {\"amount\":1500000}\n"
          ]
        },
        {
          "output_type": "stream",
          "name": "stdout",
          "text": [
            "Tool call args: [1500000.0], kwargs: {}\n"
          ]
        },
        {
          "output_type": "stream",
          "name": "stderr",
          "text": [
            "DEBUG:openai.agents:Tool call args: [1500000.0], kwargs: {}\n"
          ]
        },
        {
          "output_type": "stream",
          "name": "stdout",
          "text": [
            "wrapper Payment >>>  0.0\n",
            "Amount recived>>> 1500000.0\n",
            " Account number = ALF12345563\n",
            "Tool user_payment returned User Balance# 1500000.0\n"
          ]
        },
        {
          "output_type": "stream",
          "name": "stderr",
          "text": [
            "DEBUG:openai.agents:Tool user_payment returned User Balance# 1500000.0\n"
          ]
        },
        {
          "output_type": "stream",
          "name": "stdout",
          "text": [
            "Invoking tool check_balance with input {}\n"
          ]
        },
        {
          "output_type": "stream",
          "name": "stderr",
          "text": [
            "DEBUG:openai.agents:Invoking tool check_balance with input {}\n"
          ]
        },
        {
          "output_type": "stream",
          "name": "stdout",
          "text": [
            "Tool call args: [], kwargs: {}\n"
          ]
        },
        {
          "output_type": "stream",
          "name": "stderr",
          "text": [
            "DEBUG:openai.agents:Tool call args: [], kwargs: {}\n"
          ]
        },
        {
          "output_type": "stream",
          "name": "stdout",
          "text": [
            "Tool check_balance returned User Muhammad Qasim's account balance is 1500000.0 Rupees.\n"
          ]
        },
        {
          "output_type": "stream",
          "name": "stderr",
          "text": [
            "DEBUG:openai.agents:Tool check_balance returned User Muhammad Qasim's account balance is 1500000.0 Rupees.\n"
          ]
        },
        {
          "output_type": "stream",
          "name": "stdout",
          "text": [
            "Running agent Assistant (turn 2)\n"
          ]
        },
        {
          "output_type": "stream",
          "name": "stderr",
          "text": [
            "DEBUG:openai.agents:Running agent Assistant (turn 2)\n"
          ]
        },
        {
          "output_type": "stream",
          "name": "stdout",
          "text": [
            "Tracing is disabled. Not creating span <agents.tracing.span_data.GenerationSpanData object at 0x7d372b4b5490>\n"
          ]
        },
        {
          "output_type": "stream",
          "name": "stderr",
          "text": [
            "DEBUG:openai.agents:Tracing is disabled. Not creating span <agents.tracing.span_data.GenerationSpanData object at 0x7d372b4b5490>\n"
          ]
        },
        {
          "output_type": "stream",
          "name": "stdout",
          "text": [
            "[\n",
            "  {\n",
            "    \"content\": \"Assistant can help user to add Balance in the said Account\",\n",
            "    \"role\": \"system\"\n",
            "  },\n",
            "  {\n",
            "    \"role\": \"user\",\n",
            "    \"content\": \"Add 15Lac Rupees to the Muhammad Qasim Account, check the Balance\"\n",
            "  },\n",
            "  {\n",
            "    \"role\": \"assistant\",\n",
            "    \"tool_calls\": [\n",
            "      {\n",
            "        \"id\": \"\",\n",
            "        \"type\": \"function\",\n",
            "        \"function\": {\n",
            "          \"name\": \"user_payment\",\n",
            "          \"arguments\": \"{\\\"amount\\\":1500000}\"\n",
            "        }\n",
            "      },\n",
            "      {\n",
            "        \"id\": \"\",\n",
            "        \"type\": \"function\",\n",
            "        \"function\": {\n",
            "          \"name\": \"check_balance\",\n",
            "          \"arguments\": \"{}\"\n",
            "        }\n",
            "      }\n",
            "    ]\n",
            "  },\n",
            "  {\n",
            "    \"role\": \"tool\",\n",
            "    \"tool_call_id\": \"\",\n",
            "    \"content\": \"User Balance# 1500000.0\"\n",
            "  },\n",
            "  {\n",
            "    \"role\": \"tool\",\n",
            "    \"tool_call_id\": \"\",\n",
            "    \"content\": \"User Muhammad Qasim's account balance is 1500000.0 Rupees.\"\n",
            "  }\n",
            "]\n",
            "Tools:\n",
            "[\n",
            "  {\n",
            "    \"type\": \"function\",\n",
            "    \"function\": {\n",
            "      \"name\": \"fetch_user_age\",\n",
            "      \"description\": \"Returns the age of the user.\",\n",
            "      \"parameters\": {\n",
            "        \"properties\": {},\n",
            "        \"title\": \"fetch_user_age_args\",\n",
            "        \"type\": \"object\",\n",
            "        \"additionalProperties\": false,\n",
            "        \"required\": []\n",
            "      }\n",
            "    }\n",
            "  },\n",
            "  {\n",
            "    \"type\": \"function\",\n",
            "    \"function\": {\n",
            "      \"name\": \"fetch_user_location\",\n",
            "      \"description\": \"Returns the location of the user.\",\n",
            "      \"parameters\": {\n",
            "        \"properties\": {},\n",
            "        \"title\": \"fetch_user_location_args\",\n",
            "        \"type\": \"object\",\n",
            "        \"additionalProperties\": false,\n",
            "        \"required\": []\n",
            "      }\n",
            "    }\n",
            "  },\n",
            "  {\n",
            "    \"type\": \"function\",\n",
            "    \"function\": {\n",
            "      \"name\": \"user_payment\",\n",
            "      \"description\": \"Adds the specified amount to the user's account balance.\",\n",
            "      \"parameters\": {\n",
            "        \"properties\": {\n",
            "          \"amount\": {\n",
            "            \"title\": \"Amount\",\n",
            "            \"type\": \"number\"\n",
            "          }\n",
            "        },\n",
            "        \"required\": [\n",
            "          \"amount\"\n",
            "        ],\n",
            "        \"title\": \"user_payment_args\",\n",
            "        \"type\": \"object\",\n",
            "        \"additionalProperties\": false\n",
            "      }\n",
            "    }\n",
            "  },\n",
            "  {\n",
            "    \"type\": \"function\",\n",
            "    \"function\": {\n",
            "      \"name\": \"check_balance\",\n",
            "      \"description\": \"Returns the current account balance of the user.\",\n",
            "      \"parameters\": {\n",
            "        \"properties\": {},\n",
            "        \"title\": \"check_balance_args\",\n",
            "        \"type\": \"object\",\n",
            "        \"additionalProperties\": false,\n",
            "        \"required\": []\n",
            "      }\n",
            "    }\n",
            "  }\n",
            "]\n",
            "Stream: False\n",
            "Tool choice: NOT_GIVEN\n",
            "Response format: NOT_GIVEN\n",
            "\n"
          ]
        },
        {
          "output_type": "stream",
          "name": "stderr",
          "text": [
            "DEBUG:openai.agents:[\n",
            "  {\n",
            "    \"content\": \"Assistant can help user to add Balance in the said Account\",\n",
            "    \"role\": \"system\"\n",
            "  },\n",
            "  {\n",
            "    \"role\": \"user\",\n",
            "    \"content\": \"Add 15Lac Rupees to the Muhammad Qasim Account, check the Balance\"\n",
            "  },\n",
            "  {\n",
            "    \"role\": \"assistant\",\n",
            "    \"tool_calls\": [\n",
            "      {\n",
            "        \"id\": \"\",\n",
            "        \"type\": \"function\",\n",
            "        \"function\": {\n",
            "          \"name\": \"user_payment\",\n",
            "          \"arguments\": \"{\\\"amount\\\":1500000}\"\n",
            "        }\n",
            "      },\n",
            "      {\n",
            "        \"id\": \"\",\n",
            "        \"type\": \"function\",\n",
            "        \"function\": {\n",
            "          \"name\": \"check_balance\",\n",
            "          \"arguments\": \"{}\"\n",
            "        }\n",
            "      }\n",
            "    ]\n",
            "  },\n",
            "  {\n",
            "    \"role\": \"tool\",\n",
            "    \"tool_call_id\": \"\",\n",
            "    \"content\": \"User Balance# 1500000.0\"\n",
            "  },\n",
            "  {\n",
            "    \"role\": \"tool\",\n",
            "    \"tool_call_id\": \"\",\n",
            "    \"content\": \"User Muhammad Qasim's account balance is 1500000.0 Rupees.\"\n",
            "  }\n",
            "]\n",
            "Tools:\n",
            "[\n",
            "  {\n",
            "    \"type\": \"function\",\n",
            "    \"function\": {\n",
            "      \"name\": \"fetch_user_age\",\n",
            "      \"description\": \"Returns the age of the user.\",\n",
            "      \"parameters\": {\n",
            "        \"properties\": {},\n",
            "        \"title\": \"fetch_user_age_args\",\n",
            "        \"type\": \"object\",\n",
            "        \"additionalProperties\": false,\n",
            "        \"required\": []\n",
            "      }\n",
            "    }\n",
            "  },\n",
            "  {\n",
            "    \"type\": \"function\",\n",
            "    \"function\": {\n",
            "      \"name\": \"fetch_user_location\",\n",
            "      \"description\": \"Returns the location of the user.\",\n",
            "      \"parameters\": {\n",
            "        \"properties\": {},\n",
            "        \"title\": \"fetch_user_location_args\",\n",
            "        \"type\": \"object\",\n",
            "        \"additionalProperties\": false,\n",
            "        \"required\": []\n",
            "      }\n",
            "    }\n",
            "  },\n",
            "  {\n",
            "    \"type\": \"function\",\n",
            "    \"function\": {\n",
            "      \"name\": \"user_payment\",\n",
            "      \"description\": \"Adds the specified amount to the user's account balance.\",\n",
            "      \"parameters\": {\n",
            "        \"properties\": {\n",
            "          \"amount\": {\n",
            "            \"title\": \"Amount\",\n",
            "            \"type\": \"number\"\n",
            "          }\n",
            "        },\n",
            "        \"required\": [\n",
            "          \"amount\"\n",
            "        ],\n",
            "        \"title\": \"user_payment_args\",\n",
            "        \"type\": \"object\",\n",
            "        \"additionalProperties\": false\n",
            "      }\n",
            "    }\n",
            "  },\n",
            "  {\n",
            "    \"type\": \"function\",\n",
            "    \"function\": {\n",
            "      \"name\": \"check_balance\",\n",
            "      \"description\": \"Returns the current account balance of the user.\",\n",
            "      \"parameters\": {\n",
            "        \"properties\": {},\n",
            "        \"title\": \"check_balance_args\",\n",
            "        \"type\": \"object\",\n",
            "        \"additionalProperties\": false,\n",
            "        \"required\": []\n",
            "      }\n",
            "    }\n",
            "  }\n",
            "]\n",
            "Stream: False\n",
            "Tool choice: NOT_GIVEN\n",
            "Response format: NOT_GIVEN\n",
            "\n"
          ]
        },
        {
          "output_type": "stream",
          "name": "stdout",
          "text": [
            "LLM resp:\n",
            "{\n",
            "  \"content\": \"OK. I've added 1500000.0 Rupees to the Muhammad Qasim Account. The current balance is 1500000.0 Rupees.\\n\",\n",
            "  \"refusal\": null,\n",
            "  \"role\": \"assistant\",\n",
            "  \"annotations\": null,\n",
            "  \"audio\": null,\n",
            "  \"function_call\": null,\n",
            "  \"tool_calls\": null\n",
            "}\n",
            "\n"
          ]
        },
        {
          "output_type": "stream",
          "name": "stderr",
          "text": [
            "DEBUG:openai.agents:LLM resp:\n",
            "{\n",
            "  \"content\": \"OK. I've added 1500000.0 Rupees to the Muhammad Qasim Account. The current balance is 1500000.0 Rupees.\\n\",\n",
            "  \"refusal\": null,\n",
            "  \"role\": \"assistant\",\n",
            "  \"annotations\": null,\n",
            "  \"audio\": null,\n",
            "  \"function_call\": null,\n",
            "  \"tool_calls\": null\n",
            "}\n",
            "\n"
          ]
        },
        {
          "output_type": "stream",
          "name": "stdout",
          "text": [
            "Resetting current trace\n"
          ]
        },
        {
          "output_type": "stream",
          "name": "stderr",
          "text": [
            "DEBUG:openai.agents:Resetting current trace\n"
          ]
        },
        {
          "output_type": "stream",
          "name": "stdout",
          "text": [
            "OK. I've added 1500000.0 Rupees to the Muhammad Qasim Account. The current balance is 1500000.0 Rupees.\n",
            "\n"
          ]
        }
      ]
    },
    {
      "cell_type": "markdown",
      "source": [
        "# Agent/LLM context"
      ],
      "metadata": {
        "id": "YHG3kocopOxV"
      }
    },
    {
      "cell_type": "code",
      "source": [
        "from agents import enable_verbose_stdout_logging\n",
        "\n",
        "enable_verbose_stdout_logging()"
      ],
      "metadata": {
        "id": "pHh_IUkwq9j6"
      },
      "execution_count": 11,
      "outputs": []
    },
    {
      "cell_type": "code",
      "source": [
        "import asyncio\n",
        "from dataclasses import dataclass\n",
        "\n",
        "from agents import Agent, RunContextWrapper, Runner, function_tool\n",
        "\n",
        "@dataclass\n",
        "class UserInfo:\n",
        "    name: str\n",
        "    uid: int\n",
        "    cell:str|None\n",
        "    Address: str|None\n",
        "    Account_Number:str|None\n",
        "\n",
        "@function_tool\n",
        "async def greet_user(context: RunContextWrapper[UserInfo], greeting: str) -> str:\n",
        "  \"\"\"Greets the User with their name.\n",
        "  Args:\n",
        "    greeting: A specialed greeting message for user\n",
        "  \"\"\"\n",
        "  name = context.context.name\n",
        "  return f\"Hello {name}, {greeting}\"\n",
        "\n",
        "async def main():\n",
        "    user_info = UserInfo(name=\"Mubashar\", uid=123, cell=\"0300XXXX\", Address=\"Pakistan\", Account_Number=\"3435654\")\n",
        "\n",
        "    agent = Agent[UserInfo](\n",
        "        name=\"Assistant\",\n",
        "        tools=[greet_user],\n",
        "        model=model,\n",
        "        # Dynamic function context pass in instructions/system prompmt/developer prompt\n",
        "        instructions=\"Always greet the user using <function_call>greet_user</function_call> and welcome them to Panaversity\"\n",
        "    )\n",
        "\n",
        "    result = await Runner.run(\n",
        "        starting_agent=agent,\n",
        "        input=\"Hello\",\n",
        "        context=user_info,\n",
        "    )\n",
        "\n",
        "    print(result.final_output)\n",
        "\n",
        "asyncio.run(main())"
      ],
      "metadata": {
        "id": "2XzWlsI2yue2",
        "colab": {
          "base_uri": "https://localhost:8080/"
        },
        "outputId": "427b6a2e-5927-4add-9219-704642b1dcb7"
      },
      "execution_count": 24,
      "outputs": [
        {
          "output_type": "stream",
          "name": "stdout",
          "text": [
            "Tracing is disabled. Not creating trace Agent workflow\n"
          ]
        },
        {
          "output_type": "stream",
          "name": "stderr",
          "text": [
            "DEBUG:openai.agents:Tracing is disabled. Not creating trace Agent workflow\n"
          ]
        },
        {
          "output_type": "stream",
          "name": "stdout",
          "text": [
            "Setting current trace: no-op\n"
          ]
        },
        {
          "output_type": "stream",
          "name": "stderr",
          "text": [
            "DEBUG:openai.agents:Setting current trace: no-op\n"
          ]
        },
        {
          "output_type": "stream",
          "name": "stdout",
          "text": [
            "Tracing is disabled. Not creating span <agents.tracing.span_data.AgentSpanData object at 0x7d372b4b5df0>\n"
          ]
        },
        {
          "output_type": "stream",
          "name": "stderr",
          "text": [
            "DEBUG:openai.agents:Tracing is disabled. Not creating span <agents.tracing.span_data.AgentSpanData object at 0x7d372b4b5df0>\n"
          ]
        },
        {
          "output_type": "stream",
          "name": "stdout",
          "text": [
            "Running agent Assistant (turn 1)\n"
          ]
        },
        {
          "output_type": "stream",
          "name": "stderr",
          "text": [
            "DEBUG:openai.agents:Running agent Assistant (turn 1)\n"
          ]
        },
        {
          "output_type": "stream",
          "name": "stdout",
          "text": [
            "Tracing is disabled. Not creating span <agents.tracing.span_data.GenerationSpanData object at 0x7d372b4b6570>\n"
          ]
        },
        {
          "output_type": "stream",
          "name": "stderr",
          "text": [
            "DEBUG:openai.agents:Tracing is disabled. Not creating span <agents.tracing.span_data.GenerationSpanData object at 0x7d372b4b6570>\n"
          ]
        },
        {
          "output_type": "stream",
          "name": "stdout",
          "text": [
            "[\n",
            "  {\n",
            "    \"content\": \"Always greet the user using <function_call>greet_user</function_call> and welcome them to Panaversity\",\n",
            "    \"role\": \"system\"\n",
            "  },\n",
            "  {\n",
            "    \"role\": \"user\",\n",
            "    \"content\": \"Hello\"\n",
            "  }\n",
            "]\n",
            "Tools:\n",
            "[\n",
            "  {\n",
            "    \"type\": \"function\",\n",
            "    \"function\": {\n",
            "      \"name\": \"greet_user\",\n",
            "      \"description\": \"Greets the User with their name.\\nArgs:\\n  greeting: A specialed greeting message for user\",\n",
            "      \"parameters\": {\n",
            "        \"properties\": {\n",
            "          \"greeting\": {\n",
            "            \"title\": \"Greeting\",\n",
            "            \"type\": \"string\"\n",
            "          }\n",
            "        },\n",
            "        \"required\": [\n",
            "          \"greeting\"\n",
            "        ],\n",
            "        \"title\": \"greet_user_args\",\n",
            "        \"type\": \"object\",\n",
            "        \"additionalProperties\": false\n",
            "      }\n",
            "    }\n",
            "  }\n",
            "]\n",
            "Stream: False\n",
            "Tool choice: NOT_GIVEN\n",
            "Response format: NOT_GIVEN\n",
            "\n"
          ]
        },
        {
          "output_type": "stream",
          "name": "stderr",
          "text": [
            "DEBUG:openai.agents:[\n",
            "  {\n",
            "    \"content\": \"Always greet the user using <function_call>greet_user</function_call> and welcome them to Panaversity\",\n",
            "    \"role\": \"system\"\n",
            "  },\n",
            "  {\n",
            "    \"role\": \"user\",\n",
            "    \"content\": \"Hello\"\n",
            "  }\n",
            "]\n",
            "Tools:\n",
            "[\n",
            "  {\n",
            "    \"type\": \"function\",\n",
            "    \"function\": {\n",
            "      \"name\": \"greet_user\",\n",
            "      \"description\": \"Greets the User with their name.\\nArgs:\\n  greeting: A specialed greeting message for user\",\n",
            "      \"parameters\": {\n",
            "        \"properties\": {\n",
            "          \"greeting\": {\n",
            "            \"title\": \"Greeting\",\n",
            "            \"type\": \"string\"\n",
            "          }\n",
            "        },\n",
            "        \"required\": [\n",
            "          \"greeting\"\n",
            "        ],\n",
            "        \"title\": \"greet_user_args\",\n",
            "        \"type\": \"object\",\n",
            "        \"additionalProperties\": false\n",
            "      }\n",
            "    }\n",
            "  }\n",
            "]\n",
            "Stream: False\n",
            "Tool choice: NOT_GIVEN\n",
            "Response format: NOT_GIVEN\n",
            "\n"
          ]
        },
        {
          "output_type": "stream",
          "name": "stdout",
          "text": [
            "LLM resp:\n",
            "{\n",
            "  \"content\": null,\n",
            "  \"refusal\": null,\n",
            "  \"role\": \"assistant\",\n",
            "  \"annotations\": null,\n",
            "  \"audio\": null,\n",
            "  \"function_call\": null,\n",
            "  \"tool_calls\": [\n",
            "    {\n",
            "      \"id\": \"\",\n",
            "      \"function\": {\n",
            "        \"arguments\": \"{\\\"greeting\\\":\\\"Welcome to Panaversity!\\\"}\",\n",
            "        \"name\": \"greet_user\"\n",
            "      },\n",
            "      \"type\": \"function\"\n",
            "    }\n",
            "  ]\n",
            "}\n",
            "\n"
          ]
        },
        {
          "output_type": "stream",
          "name": "stderr",
          "text": [
            "DEBUG:openai.agents:LLM resp:\n",
            "{\n",
            "  \"content\": null,\n",
            "  \"refusal\": null,\n",
            "  \"role\": \"assistant\",\n",
            "  \"annotations\": null,\n",
            "  \"audio\": null,\n",
            "  \"function_call\": null,\n",
            "  \"tool_calls\": [\n",
            "    {\n",
            "      \"id\": \"\",\n",
            "      \"function\": {\n",
            "        \"arguments\": \"{\\\"greeting\\\":\\\"Welcome to Panaversity!\\\"}\",\n",
            "        \"name\": \"greet_user\"\n",
            "      },\n",
            "      \"type\": \"function\"\n",
            "    }\n",
            "  ]\n",
            "}\n",
            "\n"
          ]
        },
        {
          "output_type": "stream",
          "name": "stdout",
          "text": [
            "Tracing is disabled. Not creating span <agents.tracing.span_data.FunctionSpanData object at 0x7d372b4b6810>\n"
          ]
        },
        {
          "output_type": "stream",
          "name": "stderr",
          "text": [
            "DEBUG:openai.agents:Tracing is disabled. Not creating span <agents.tracing.span_data.FunctionSpanData object at 0x7d372b4b6810>\n"
          ]
        },
        {
          "output_type": "stream",
          "name": "stdout",
          "text": [
            "Invoking tool greet_user with input {\"greeting\":\"Welcome to Panaversity!\"}\n"
          ]
        },
        {
          "output_type": "stream",
          "name": "stderr",
          "text": [
            "DEBUG:openai.agents:Invoking tool greet_user with input {\"greeting\":\"Welcome to Panaversity!\"}\n"
          ]
        },
        {
          "output_type": "stream",
          "name": "stdout",
          "text": [
            "Tool call args: ['Welcome to Panaversity!'], kwargs: {}\n"
          ]
        },
        {
          "output_type": "stream",
          "name": "stderr",
          "text": [
            "DEBUG:openai.agents:Tool call args: ['Welcome to Panaversity!'], kwargs: {}\n"
          ]
        },
        {
          "output_type": "stream",
          "name": "stdout",
          "text": [
            "Tool greet_user returned Hello Mubashar, Welcome to Panaversity!\n"
          ]
        },
        {
          "output_type": "stream",
          "name": "stderr",
          "text": [
            "DEBUG:openai.agents:Tool greet_user returned Hello Mubashar, Welcome to Panaversity!\n"
          ]
        },
        {
          "output_type": "stream",
          "name": "stdout",
          "text": [
            "Running agent Assistant (turn 2)\n"
          ]
        },
        {
          "output_type": "stream",
          "name": "stderr",
          "text": [
            "DEBUG:openai.agents:Running agent Assistant (turn 2)\n"
          ]
        },
        {
          "output_type": "stream",
          "name": "stdout",
          "text": [
            "Tracing is disabled. Not creating span <agents.tracing.span_data.GenerationSpanData object at 0x7d372b4b6750>\n"
          ]
        },
        {
          "output_type": "stream",
          "name": "stderr",
          "text": [
            "DEBUG:openai.agents:Tracing is disabled. Not creating span <agents.tracing.span_data.GenerationSpanData object at 0x7d372b4b6750>\n"
          ]
        },
        {
          "output_type": "stream",
          "name": "stdout",
          "text": [
            "[\n",
            "  {\n",
            "    \"content\": \"Always greet the user using <function_call>greet_user</function_call> and welcome them to Panaversity\",\n",
            "    \"role\": \"system\"\n",
            "  },\n",
            "  {\n",
            "    \"role\": \"user\",\n",
            "    \"content\": \"Hello\"\n",
            "  },\n",
            "  {\n",
            "    \"role\": \"assistant\",\n",
            "    \"tool_calls\": [\n",
            "      {\n",
            "        \"id\": \"\",\n",
            "        \"type\": \"function\",\n",
            "        \"function\": {\n",
            "          \"name\": \"greet_user\",\n",
            "          \"arguments\": \"{\\\"greeting\\\":\\\"Welcome to Panaversity!\\\"}\"\n",
            "        }\n",
            "      }\n",
            "    ]\n",
            "  },\n",
            "  {\n",
            "    \"role\": \"tool\",\n",
            "    \"tool_call_id\": \"\",\n",
            "    \"content\": \"Hello Mubashar, Welcome to Panaversity!\"\n",
            "  }\n",
            "]\n",
            "Tools:\n",
            "[\n",
            "  {\n",
            "    \"type\": \"function\",\n",
            "    \"function\": {\n",
            "      \"name\": \"greet_user\",\n",
            "      \"description\": \"Greets the User with their name.\\nArgs:\\n  greeting: A specialed greeting message for user\",\n",
            "      \"parameters\": {\n",
            "        \"properties\": {\n",
            "          \"greeting\": {\n",
            "            \"title\": \"Greeting\",\n",
            "            \"type\": \"string\"\n",
            "          }\n",
            "        },\n",
            "        \"required\": [\n",
            "          \"greeting\"\n",
            "        ],\n",
            "        \"title\": \"greet_user_args\",\n",
            "        \"type\": \"object\",\n",
            "        \"additionalProperties\": false\n",
            "      }\n",
            "    }\n",
            "  }\n",
            "]\n",
            "Stream: False\n",
            "Tool choice: NOT_GIVEN\n",
            "Response format: NOT_GIVEN\n",
            "\n"
          ]
        },
        {
          "output_type": "stream",
          "name": "stderr",
          "text": [
            "DEBUG:openai.agents:[\n",
            "  {\n",
            "    \"content\": \"Always greet the user using <function_call>greet_user</function_call> and welcome them to Panaversity\",\n",
            "    \"role\": \"system\"\n",
            "  },\n",
            "  {\n",
            "    \"role\": \"user\",\n",
            "    \"content\": \"Hello\"\n",
            "  },\n",
            "  {\n",
            "    \"role\": \"assistant\",\n",
            "    \"tool_calls\": [\n",
            "      {\n",
            "        \"id\": \"\",\n",
            "        \"type\": \"function\",\n",
            "        \"function\": {\n",
            "          \"name\": \"greet_user\",\n",
            "          \"arguments\": \"{\\\"greeting\\\":\\\"Welcome to Panaversity!\\\"}\"\n",
            "        }\n",
            "      }\n",
            "    ]\n",
            "  },\n",
            "  {\n",
            "    \"role\": \"tool\",\n",
            "    \"tool_call_id\": \"\",\n",
            "    \"content\": \"Hello Mubashar, Welcome to Panaversity!\"\n",
            "  }\n",
            "]\n",
            "Tools:\n",
            "[\n",
            "  {\n",
            "    \"type\": \"function\",\n",
            "    \"function\": {\n",
            "      \"name\": \"greet_user\",\n",
            "      \"description\": \"Greets the User with their name.\\nArgs:\\n  greeting: A specialed greeting message for user\",\n",
            "      \"parameters\": {\n",
            "        \"properties\": {\n",
            "          \"greeting\": {\n",
            "            \"title\": \"Greeting\",\n",
            "            \"type\": \"string\"\n",
            "          }\n",
            "        },\n",
            "        \"required\": [\n",
            "          \"greeting\"\n",
            "        ],\n",
            "        \"title\": \"greet_user_args\",\n",
            "        \"type\": \"object\",\n",
            "        \"additionalProperties\": false\n",
            "      }\n",
            "    }\n",
            "  }\n",
            "]\n",
            "Stream: False\n",
            "Tool choice: NOT_GIVEN\n",
            "Response format: NOT_GIVEN\n",
            "\n"
          ]
        },
        {
          "output_type": "stream",
          "name": "stdout",
          "text": [
            "LLM resp:\n",
            "{\n",
            "  \"content\": \"Hello Mubashar, Welcome to Panaversity!\\n\",\n",
            "  \"refusal\": null,\n",
            "  \"role\": \"assistant\",\n",
            "  \"annotations\": null,\n",
            "  \"audio\": null,\n",
            "  \"function_call\": null,\n",
            "  \"tool_calls\": null\n",
            "}\n",
            "\n"
          ]
        },
        {
          "output_type": "stream",
          "name": "stderr",
          "text": [
            "DEBUG:openai.agents:LLM resp:\n",
            "{\n",
            "  \"content\": \"Hello Mubashar, Welcome to Panaversity!\\n\",\n",
            "  \"refusal\": null,\n",
            "  \"role\": \"assistant\",\n",
            "  \"annotations\": null,\n",
            "  \"audio\": null,\n",
            "  \"function_call\": null,\n",
            "  \"tool_calls\": null\n",
            "}\n",
            "\n"
          ]
        },
        {
          "output_type": "stream",
          "name": "stdout",
          "text": [
            "Resetting current trace\n"
          ]
        },
        {
          "output_type": "stream",
          "name": "stderr",
          "text": [
            "DEBUG:openai.agents:Resetting current trace\n"
          ]
        },
        {
          "output_type": "stream",
          "name": "stdout",
          "text": [
            "Hello Mubashar, Welcome to Panaversity!\n",
            "\n"
          ]
        }
      ]
    },
    {
      "cell_type": "code",
      "source": [],
      "metadata": {
        "id": "12QCqbm8ePnW"
      },
      "execution_count": null,
      "outputs": []
    },
    {
      "cell_type": "code",
      "source": [
        "import asyncio\n",
        "from dataclasses import dataclass\n",
        "\n",
        "from agents import Agent, RunContextWrapper, Runner, function_tool\n",
        "\n",
        "@dataclass\n",
        "class UserInfo:\n",
        "    name: str\n",
        "    uid: int\n",
        "\n",
        "@function_tool\n",
        "async def greet_user(context: RunContextWrapper[UserInfo], greeting: str) -> str:\n",
        "  \"\"\"Greets the User with their name.\n",
        "  Args:\n",
        "    greeting: A specialed greeting message for user\n",
        "  \"\"\"\n",
        "  name = context.context.name\n",
        "  return f\"Hello {name}, {greeting}\"\n",
        "\n",
        "async def main():\n",
        "    user_info = UserInfo(name=\"Junaid\", uid=123)\n",
        "\n",
        "    agent = Agent[UserInfo](\n",
        "        name=\"Assistant\",\n",
        "        tools=[greet_user],\n",
        "        model=model,\n",
        "        instructions=\"Always greet the user using <function_call>greet_user</function_call> and welcome them to Panaversity\"\n",
        "    )\n",
        "\n",
        "    result = await Runner.run(\n",
        "        starting_agent=agent,\n",
        "        input=\"Hello\",\n",
        "        context=user_info,\n",
        "    )\n",
        "\n",
        "    print(result.final_output)\n",
        "\n",
        "asyncio.run(main())"
      ],
      "metadata": {
        "colab": {
          "base_uri": "https://localhost:8080/"
        },
        "id": "6C0tEQPuguki",
        "outputId": "3aa822ac-4156-43c0-9c62-a6cdf8fcefc8"
      },
      "execution_count": null,
      "outputs": [
        {
          "output_type": "stream",
          "name": "stdout",
          "text": [
            "Tracing is disabled. Not creating trace Agent workflow\n"
          ]
        },
        {
          "output_type": "stream",
          "name": "stderr",
          "text": [
            "DEBUG:openai.agents:Tracing is disabled. Not creating trace Agent workflow\n"
          ]
        },
        {
          "output_type": "stream",
          "name": "stdout",
          "text": [
            "Setting current trace: no-op\n"
          ]
        },
        {
          "output_type": "stream",
          "name": "stderr",
          "text": [
            "DEBUG:openai.agents:Setting current trace: no-op\n"
          ]
        },
        {
          "output_type": "stream",
          "name": "stdout",
          "text": [
            "Tracing is disabled. Not creating span <agents.tracing.span_data.AgentSpanData object at 0x78b2cb02ce90>\n"
          ]
        },
        {
          "output_type": "stream",
          "name": "stderr",
          "text": [
            "DEBUG:openai.agents:Tracing is disabled. Not creating span <agents.tracing.span_data.AgentSpanData object at 0x78b2cb02ce90>\n"
          ]
        },
        {
          "output_type": "stream",
          "name": "stdout",
          "text": [
            "Running agent Assistant (turn 1)\n"
          ]
        },
        {
          "output_type": "stream",
          "name": "stderr",
          "text": [
            "DEBUG:openai.agents:Running agent Assistant (turn 1)\n"
          ]
        },
        {
          "output_type": "stream",
          "name": "stdout",
          "text": [
            "Tracing is disabled. Not creating span <agents.tracing.span_data.GenerationSpanData object at 0x78b2cb190950>\n"
          ]
        },
        {
          "output_type": "stream",
          "name": "stderr",
          "text": [
            "DEBUG:openai.agents:Tracing is disabled. Not creating span <agents.tracing.span_data.GenerationSpanData object at 0x78b2cb190950>\n"
          ]
        },
        {
          "output_type": "stream",
          "name": "stdout",
          "text": [
            "[\n",
            "  {\n",
            "    \"content\": \"Always greet the user using <function_call>greet_user</function_call> and welcome them to Panaversity\",\n",
            "    \"role\": \"system\"\n",
            "  },\n",
            "  {\n",
            "    \"role\": \"user\",\n",
            "    \"content\": \"Hello\"\n",
            "  }\n",
            "]\n",
            "Tools:\n",
            "[\n",
            "  {\n",
            "    \"type\": \"function\",\n",
            "    \"function\": {\n",
            "      \"name\": \"greet_user\",\n",
            "      \"description\": \"Greets the User with their name.\\nArgs:\\n  greeting: A specialed greeting message for user\",\n",
            "      \"parameters\": {\n",
            "        \"properties\": {\n",
            "          \"greeting\": {\n",
            "            \"title\": \"Greeting\",\n",
            "            \"type\": \"string\"\n",
            "          }\n",
            "        },\n",
            "        \"required\": [\n",
            "          \"greeting\"\n",
            "        ],\n",
            "        \"title\": \"greet_user_args\",\n",
            "        \"type\": \"object\",\n",
            "        \"additionalProperties\": false\n",
            "      }\n",
            "    }\n",
            "  }\n",
            "]\n",
            "Stream: False\n",
            "Tool choice: NOT_GIVEN\n",
            "Response format: NOT_GIVEN\n",
            "\n"
          ]
        },
        {
          "output_type": "stream",
          "name": "stderr",
          "text": [
            "DEBUG:openai.agents:[\n",
            "  {\n",
            "    \"content\": \"Always greet the user using <function_call>greet_user</function_call> and welcome them to Panaversity\",\n",
            "    \"role\": \"system\"\n",
            "  },\n",
            "  {\n",
            "    \"role\": \"user\",\n",
            "    \"content\": \"Hello\"\n",
            "  }\n",
            "]\n",
            "Tools:\n",
            "[\n",
            "  {\n",
            "    \"type\": \"function\",\n",
            "    \"function\": {\n",
            "      \"name\": \"greet_user\",\n",
            "      \"description\": \"Greets the User with their name.\\nArgs:\\n  greeting: A specialed greeting message for user\",\n",
            "      \"parameters\": {\n",
            "        \"properties\": {\n",
            "          \"greeting\": {\n",
            "            \"title\": \"Greeting\",\n",
            "            \"type\": \"string\"\n",
            "          }\n",
            "        },\n",
            "        \"required\": [\n",
            "          \"greeting\"\n",
            "        ],\n",
            "        \"title\": \"greet_user_args\",\n",
            "        \"type\": \"object\",\n",
            "        \"additionalProperties\": false\n",
            "      }\n",
            "    }\n",
            "  }\n",
            "]\n",
            "Stream: False\n",
            "Tool choice: NOT_GIVEN\n",
            "Response format: NOT_GIVEN\n",
            "\n"
          ]
        },
        {
          "output_type": "stream",
          "name": "stdout",
          "text": [
            "LLM resp:\n",
            "{\n",
            "  \"content\": null,\n",
            "  \"refusal\": null,\n",
            "  \"role\": \"assistant\",\n",
            "  \"annotations\": null,\n",
            "  \"audio\": null,\n",
            "  \"function_call\": null,\n",
            "  \"tool_calls\": [\n",
            "    {\n",
            "      \"id\": \"\",\n",
            "      \"function\": {\n",
            "        \"arguments\": \"{\\\"greeting\\\":\\\"Welcome to Panaversity!\\\"}\",\n",
            "        \"name\": \"greet_user\"\n",
            "      },\n",
            "      \"type\": \"function\"\n",
            "    }\n",
            "  ]\n",
            "}\n",
            "\n"
          ]
        },
        {
          "output_type": "stream",
          "name": "stderr",
          "text": [
            "DEBUG:openai.agents:LLM resp:\n",
            "{\n",
            "  \"content\": null,\n",
            "  \"refusal\": null,\n",
            "  \"role\": \"assistant\",\n",
            "  \"annotations\": null,\n",
            "  \"audio\": null,\n",
            "  \"function_call\": null,\n",
            "  \"tool_calls\": [\n",
            "    {\n",
            "      \"id\": \"\",\n",
            "      \"function\": {\n",
            "        \"arguments\": \"{\\\"greeting\\\":\\\"Welcome to Panaversity!\\\"}\",\n",
            "        \"name\": \"greet_user\"\n",
            "      },\n",
            "      \"type\": \"function\"\n",
            "    }\n",
            "  ]\n",
            "}\n",
            "\n"
          ]
        },
        {
          "output_type": "stream",
          "name": "stdout",
          "text": [
            "Tracing is disabled. Not creating span <agents.tracing.span_data.FunctionSpanData object at 0x78b2cb190950>\n"
          ]
        },
        {
          "output_type": "stream",
          "name": "stderr",
          "text": [
            "DEBUG:openai.agents:Tracing is disabled. Not creating span <agents.tracing.span_data.FunctionSpanData object at 0x78b2cb190950>\n"
          ]
        },
        {
          "output_type": "stream",
          "name": "stdout",
          "text": [
            "Invoking tool greet_user with input {\"greeting\":\"Welcome to Panaversity!\"}\n"
          ]
        },
        {
          "output_type": "stream",
          "name": "stderr",
          "text": [
            "DEBUG:openai.agents:Invoking tool greet_user with input {\"greeting\":\"Welcome to Panaversity!\"}\n"
          ]
        },
        {
          "output_type": "stream",
          "name": "stdout",
          "text": [
            "Tool call args: ['Welcome to Panaversity!'], kwargs: {}\n"
          ]
        },
        {
          "output_type": "stream",
          "name": "stderr",
          "text": [
            "DEBUG:openai.agents:Tool call args: ['Welcome to Panaversity!'], kwargs: {}\n"
          ]
        },
        {
          "output_type": "stream",
          "name": "stdout",
          "text": [
            "Tool greet_user returned Hello Junaid, Welcome to Panaversity!\n"
          ]
        },
        {
          "output_type": "stream",
          "name": "stderr",
          "text": [
            "DEBUG:openai.agents:Tool greet_user returned Hello Junaid, Welcome to Panaversity!\n"
          ]
        },
        {
          "output_type": "stream",
          "name": "stdout",
          "text": [
            "Running agent Assistant (turn 2)\n"
          ]
        },
        {
          "output_type": "stream",
          "name": "stderr",
          "text": [
            "DEBUG:openai.agents:Running agent Assistant (turn 2)\n"
          ]
        },
        {
          "output_type": "stream",
          "name": "stdout",
          "text": [
            "Tracing is disabled. Not creating span <agents.tracing.span_data.GenerationSpanData object at 0x78b2cb062690>\n"
          ]
        },
        {
          "output_type": "stream",
          "name": "stderr",
          "text": [
            "DEBUG:openai.agents:Tracing is disabled. Not creating span <agents.tracing.span_data.GenerationSpanData object at 0x78b2cb062690>\n"
          ]
        },
        {
          "output_type": "stream",
          "name": "stdout",
          "text": [
            "[\n",
            "  {\n",
            "    \"content\": \"Always greet the user using <function_call>greet_user</function_call> and welcome them to Panaversity\",\n",
            "    \"role\": \"system\"\n",
            "  },\n",
            "  {\n",
            "    \"role\": \"user\",\n",
            "    \"content\": \"Hello\"\n",
            "  },\n",
            "  {\n",
            "    \"role\": \"assistant\",\n",
            "    \"tool_calls\": [\n",
            "      {\n",
            "        \"id\": \"\",\n",
            "        \"type\": \"function\",\n",
            "        \"function\": {\n",
            "          \"name\": \"greet_user\",\n",
            "          \"arguments\": \"{\\\"greeting\\\":\\\"Welcome to Panaversity!\\\"}\"\n",
            "        }\n",
            "      }\n",
            "    ]\n",
            "  },\n",
            "  {\n",
            "    \"role\": \"tool\",\n",
            "    \"tool_call_id\": \"\",\n",
            "    \"content\": \"Hello Junaid, Welcome to Panaversity!\"\n",
            "  }\n",
            "]\n",
            "Tools:\n",
            "[\n",
            "  {\n",
            "    \"type\": \"function\",\n",
            "    \"function\": {\n",
            "      \"name\": \"greet_user\",\n",
            "      \"description\": \"Greets the User with their name.\\nArgs:\\n  greeting: A specialed greeting message for user\",\n",
            "      \"parameters\": {\n",
            "        \"properties\": {\n",
            "          \"greeting\": {\n",
            "            \"title\": \"Greeting\",\n",
            "            \"type\": \"string\"\n",
            "          }\n",
            "        },\n",
            "        \"required\": [\n",
            "          \"greeting\"\n",
            "        ],\n",
            "        \"title\": \"greet_user_args\",\n",
            "        \"type\": \"object\",\n",
            "        \"additionalProperties\": false\n",
            "      }\n",
            "    }\n",
            "  }\n",
            "]\n",
            "Stream: False\n",
            "Tool choice: NOT_GIVEN\n",
            "Response format: NOT_GIVEN\n",
            "\n"
          ]
        },
        {
          "output_type": "stream",
          "name": "stderr",
          "text": [
            "DEBUG:openai.agents:[\n",
            "  {\n",
            "    \"content\": \"Always greet the user using <function_call>greet_user</function_call> and welcome them to Panaversity\",\n",
            "    \"role\": \"system\"\n",
            "  },\n",
            "  {\n",
            "    \"role\": \"user\",\n",
            "    \"content\": \"Hello\"\n",
            "  },\n",
            "  {\n",
            "    \"role\": \"assistant\",\n",
            "    \"tool_calls\": [\n",
            "      {\n",
            "        \"id\": \"\",\n",
            "        \"type\": \"function\",\n",
            "        \"function\": {\n",
            "          \"name\": \"greet_user\",\n",
            "          \"arguments\": \"{\\\"greeting\\\":\\\"Welcome to Panaversity!\\\"}\"\n",
            "        }\n",
            "      }\n",
            "    ]\n",
            "  },\n",
            "  {\n",
            "    \"role\": \"tool\",\n",
            "    \"tool_call_id\": \"\",\n",
            "    \"content\": \"Hello Junaid, Welcome to Panaversity!\"\n",
            "  }\n",
            "]\n",
            "Tools:\n",
            "[\n",
            "  {\n",
            "    \"type\": \"function\",\n",
            "    \"function\": {\n",
            "      \"name\": \"greet_user\",\n",
            "      \"description\": \"Greets the User with their name.\\nArgs:\\n  greeting: A specialed greeting message for user\",\n",
            "      \"parameters\": {\n",
            "        \"properties\": {\n",
            "          \"greeting\": {\n",
            "            \"title\": \"Greeting\",\n",
            "            \"type\": \"string\"\n",
            "          }\n",
            "        },\n",
            "        \"required\": [\n",
            "          \"greeting\"\n",
            "        ],\n",
            "        \"title\": \"greet_user_args\",\n",
            "        \"type\": \"object\",\n",
            "        \"additionalProperties\": false\n",
            "      }\n",
            "    }\n",
            "  }\n",
            "]\n",
            "Stream: False\n",
            "Tool choice: NOT_GIVEN\n",
            "Response format: NOT_GIVEN\n",
            "\n"
          ]
        },
        {
          "output_type": "stream",
          "name": "stdout",
          "text": [
            "LLM resp:\n",
            "{\n",
            "  \"content\": \"Hello Junaid, Welcome to Panaversity!\\n\",\n",
            "  \"refusal\": null,\n",
            "  \"role\": \"assistant\",\n",
            "  \"annotations\": null,\n",
            "  \"audio\": null,\n",
            "  \"function_call\": null,\n",
            "  \"tool_calls\": null\n",
            "}\n",
            "\n"
          ]
        },
        {
          "output_type": "stream",
          "name": "stderr",
          "text": [
            "DEBUG:openai.agents:LLM resp:\n",
            "{\n",
            "  \"content\": \"Hello Junaid, Welcome to Panaversity!\\n\",\n",
            "  \"refusal\": null,\n",
            "  \"role\": \"assistant\",\n",
            "  \"annotations\": null,\n",
            "  \"audio\": null,\n",
            "  \"function_call\": null,\n",
            "  \"tool_calls\": null\n",
            "}\n",
            "\n"
          ]
        },
        {
          "output_type": "stream",
          "name": "stdout",
          "text": [
            "Resetting current trace\n"
          ]
        },
        {
          "output_type": "stream",
          "name": "stderr",
          "text": [
            "DEBUG:openai.agents:Resetting current trace\n"
          ]
        },
        {
          "output_type": "stream",
          "name": "stdout",
          "text": [
            "Hello Junaid, Welcome to Panaversity!\n",
            "\n"
          ]
        }
      ]
    },
    {
      "cell_type": "code",
      "source": [
        "from pydantic import BaseModel\n",
        "\n",
        "from agents import Agent, handoff, RunContextWrapper\n",
        "\n",
        "class EscalationData(BaseModel):\n",
        "    reason: str\n",
        "\n",
        "async def on_handoff(ctx: RunContextWrapper[None], input_data: EscalationData):\n",
        "    print(f\"Escalation agent called with reason: {input_data.reason}\")\n",
        "\n",
        "agent = Agent(name=\"Escalation agent\",model=model)\n",
        "\n",
        "handoff_obj = handoff(\n",
        "    agent=agent,\n",
        "    on_handoff=on_handoff,\n",
        "    input_type=EscalationData,\n",
        ")"
      ],
      "metadata": {
        "id": "MypzfnfbrB8Q"
      },
      "execution_count": 21,
      "outputs": []
    },
    {
      "cell_type": "code",
      "source": [
        "from agents import enable_verbose_stdout_logging\n",
        "\n",
        "enable_verbose_stdout_logging()"
      ],
      "metadata": {
        "id": "agTISoYdrnCg"
      },
      "execution_count": 28,
      "outputs": []
    },
    {
      "cell_type": "code",
      "source": [
        "async def run_escalation():\n",
        "    # Await the result of the asynchronous Runner.run method\n",
        "    result = await Runner.run(agent, input=\"escalate\")\n",
        "    print(result)\n",
        "    print(result.final_output)\n",
        "\n",
        "# Run the async function\n",
        "asyncio.run(run_escalation())"
      ],
      "metadata": {
        "colab": {
          "base_uri": "https://localhost:8080/"
        },
        "id": "H4hw0-8Lsilq",
        "outputId": "37f0fdfa-ef0b-4896-c9ae-79c1cae000eb"
      },
      "execution_count": 25,
      "outputs": [
        {
          "output_type": "stream",
          "name": "stdout",
          "text": [
            "Creating trace Agent workflow with id trace_e1900b6ae9c34e79aa9692676d4d442a\n"
          ]
        },
        {
          "output_type": "stream",
          "name": "stderr",
          "text": [
            "DEBUG:openai.agents:Creating trace Agent workflow with id trace_e1900b6ae9c34e79aa9692676d4d442a\n"
          ]
        },
        {
          "output_type": "stream",
          "name": "stdout",
          "text": [
            "Setting current trace: trace_e1900b6ae9c34e79aa9692676d4d442a\n"
          ]
        },
        {
          "output_type": "stream",
          "name": "stderr",
          "text": [
            "DEBUG:openai.agents:Setting current trace: trace_e1900b6ae9c34e79aa9692676d4d442a\n"
          ]
        },
        {
          "output_type": "stream",
          "name": "stdout",
          "text": [
            "Creating span <agents.tracing.span_data.AgentSpanData object at 0x79445d59fa70> with id None\n"
          ]
        },
        {
          "output_type": "stream",
          "name": "stderr",
          "text": [
            "DEBUG:openai.agents:Creating span <agents.tracing.span_data.AgentSpanData object at 0x79445d59fa70> with id None\n"
          ]
        },
        {
          "output_type": "stream",
          "name": "stdout",
          "text": [
            "Running agent Escalation agent (turn 1)\n"
          ]
        },
        {
          "output_type": "stream",
          "name": "stderr",
          "text": [
            "DEBUG:openai.agents:Running agent Escalation agent (turn 1)\n"
          ]
        },
        {
          "output_type": "stream",
          "name": "stdout",
          "text": [
            "Creating span <agents.tracing.span_data.GenerationSpanData object at 0x79445d59fcb0> with id None\n"
          ]
        },
        {
          "output_type": "stream",
          "name": "stderr",
          "text": [
            "DEBUG:openai.agents:Creating span <agents.tracing.span_data.GenerationSpanData object at 0x79445d59fcb0> with id None\n"
          ]
        },
        {
          "output_type": "stream",
          "name": "stdout",
          "text": [
            "[\n",
            "  {\n",
            "    \"role\": \"user\",\n",
            "    \"content\": \"escalate\"\n",
            "  }\n",
            "]\n",
            "Tools:\n",
            "[]\n",
            "Stream: False\n",
            "Tool choice: NOT_GIVEN\n",
            "Response format: NOT_GIVEN\n",
            "\n"
          ]
        },
        {
          "output_type": "stream",
          "name": "stderr",
          "text": [
            "DEBUG:openai.agents:[\n",
            "  {\n",
            "    \"role\": \"user\",\n",
            "    \"content\": \"escalate\"\n",
            "  }\n",
            "]\n",
            "Tools:\n",
            "[]\n",
            "Stream: False\n",
            "Tool choice: NOT_GIVEN\n",
            "Response format: NOT_GIVEN\n",
            "\n"
          ]
        },
        {
          "output_type": "stream",
          "name": "stdout",
          "text": [
            "LLM resp:\n",
            "{\n",
            "  \"content\": \"Okay, I will try to understand the context and use of \\\"escalate\\\" you are referring to. To help me do that, could you please provide more information? For example:\\n\\n*   **What are you escalating?** Is it a situation, a problem, a request, a project, a task?\\n*   **Who are you escalating it to?** A manager, a different department, a specific person?\\n*   **Why are you escalating it?** Because you've tried to resolve it yourself and failed, because it's beyond your authority, because it's urgent?\\n*   **What kind of response are you hoping for?** A solution, guidance, approval, resources?\\n\\nIn the meantime, here are some general meanings and potential uses of \\\"escalate\\\":\\n\\n**General Meanings:**\\n\\n*   **To increase in intensity or seriousness:** \\\"The conflict escalated quickly.\\\"\\n*   **To raise to a higher level or authority:** \\\"I had to escalate the issue to my supervisor.\\\"\\n*   **To increase in amount or size:** \\\"The price of fuel escalated dramatically.\\\"\\n\\n**Potential Actions you might need based on Escalation:**\\n\\n*   **Communicate the Escalation:** Verbally or in writing, explain the situation and why it needs escalation to whomever you escalate to.\\n*   **Prepare Documentation:** Compile all relevant information, data, and history related to the issue.\\n*   **Outline Proposed Solutions:** If possible, include any solutions that you've tried or potential solutions that you're aware of.\\n*   **Define Expected Outcomes:** Clearly describe the desired results after escalation.\\n*   **Update Involved Parties:** Keep the original stakeholders informed about the escalation and its progress.\\n*   **Monitor the Escalation:** Track the escalation process and follow up as needed.\\n\\nOnce you give me a context, I will provide a more specific and helpful answer.\\n\",\n",
            "  \"refusal\": null,\n",
            "  \"role\": \"assistant\",\n",
            "  \"annotations\": null,\n",
            "  \"audio\": null,\n",
            "  \"function_call\": null,\n",
            "  \"tool_calls\": null\n",
            "}\n",
            "\n"
          ]
        },
        {
          "output_type": "stream",
          "name": "stderr",
          "text": [
            "DEBUG:openai.agents:LLM resp:\n",
            "{\n",
            "  \"content\": \"Okay, I will try to understand the context and use of \\\"escalate\\\" you are referring to. To help me do that, could you please provide more information? For example:\\n\\n*   **What are you escalating?** Is it a situation, a problem, a request, a project, a task?\\n*   **Who are you escalating it to?** A manager, a different department, a specific person?\\n*   **Why are you escalating it?** Because you've tried to resolve it yourself and failed, because it's beyond your authority, because it's urgent?\\n*   **What kind of response are you hoping for?** A solution, guidance, approval, resources?\\n\\nIn the meantime, here are some general meanings and potential uses of \\\"escalate\\\":\\n\\n**General Meanings:**\\n\\n*   **To increase in intensity or seriousness:** \\\"The conflict escalated quickly.\\\"\\n*   **To raise to a higher level or authority:** \\\"I had to escalate the issue to my supervisor.\\\"\\n*   **To increase in amount or size:** \\\"The price of fuel escalated dramatically.\\\"\\n\\n**Potential Actions you might need based on Escalation:**\\n\\n*   **Communicate the Escalation:** Verbally or in writing, explain the situation and why it needs escalation to whomever you escalate to.\\n*   **Prepare Documentation:** Compile all relevant information, data, and history related to the issue.\\n*   **Outline Proposed Solutions:** If possible, include any solutions that you've tried or potential solutions that you're aware of.\\n*   **Define Expected Outcomes:** Clearly describe the desired results after escalation.\\n*   **Update Involved Parties:** Keep the original stakeholders informed about the escalation and its progress.\\n*   **Monitor the Escalation:** Track the escalation process and follow up as needed.\\n\\nOnce you give me a context, I will provide a more specific and helpful answer.\\n\",\n",
            "  \"refusal\": null,\n",
            "  \"role\": \"assistant\",\n",
            "  \"annotations\": null,\n",
            "  \"audio\": null,\n",
            "  \"function_call\": null,\n",
            "  \"tool_calls\": null\n",
            "}\n",
            "\n"
          ]
        },
        {
          "output_type": "stream",
          "name": "stdout",
          "text": [
            "Resetting current trace\n"
          ]
        },
        {
          "output_type": "stream",
          "name": "stderr",
          "text": [
            "DEBUG:openai.agents:Resetting current trace\n"
          ]
        },
        {
          "output_type": "stream",
          "name": "stdout",
          "text": [
            "RunResult:\n",
            "- Last agent: Agent(name=\"Escalation agent\", ...)\n",
            "- Final output (str):\n",
            "    Okay, I will try to understand the context and use of \"escalate\" you are referring to. To help me do that, could you please provide more information? For example:\n",
            "    \n",
            "    *   **What are you escalating?** Is it a situation, a problem, a request, a project, a task?\n",
            "    *   **Who are you escalating it to?** A manager, a different department, a specific person?\n",
            "    *   **Why are you escalating it?** Because you've tried to resolve it yourself and failed, because it's beyond your authority, because it's urgent?\n",
            "    *   **What kind of response are you hoping for?** A solution, guidance, approval, resources?\n",
            "    \n",
            "    In the meantime, here are some general meanings and potential uses of \"escalate\":\n",
            "    \n",
            "    **General Meanings:**\n",
            "    \n",
            "    *   **To increase in intensity or seriousness:** \"The conflict escalated quickly.\"\n",
            "    *   **To raise to a higher level or authority:** \"I had to escalate the issue to my supervisor.\"\n",
            "    *   **To increase in amount or size:** \"The price of fuel escalated dramatically.\"\n",
            "    \n",
            "    **Potential Actions you might need based on Escalation:**\n",
            "    \n",
            "    *   **Communicate the Escalation:** Verbally or in writing, explain the situation and why it needs escalation to whomever you escalate to.\n",
            "    *   **Prepare Documentation:** Compile all relevant information, data, and history related to the issue.\n",
            "    *   **Outline Proposed Solutions:** If possible, include any solutions that you've tried or potential solutions that you're aware of.\n",
            "    *   **Define Expected Outcomes:** Clearly describe the desired results after escalation.\n",
            "    *   **Update Involved Parties:** Keep the original stakeholders informed about the escalation and its progress.\n",
            "    *   **Monitor the Escalation:** Track the escalation process and follow up as needed.\n",
            "    \n",
            "    Once you give me a context, I will provide a more specific and helpful answer.\n",
            "- 1 new item(s)\n",
            "- 1 raw response(s)\n",
            "- 0 input guardrail result(s)\n",
            "- 0 output guardrail result(s)\n",
            "(See `RunResult` for more details)\n",
            "Okay, I will try to understand the context and use of \"escalate\" you are referring to. To help me do that, could you please provide more information? For example:\n",
            "\n",
            "*   **What are you escalating?** Is it a situation, a problem, a request, a project, a task?\n",
            "*   **Who are you escalating it to?** A manager, a different department, a specific person?\n",
            "*   **Why are you escalating it?** Because you've tried to resolve it yourself and failed, because it's beyond your authority, because it's urgent?\n",
            "*   **What kind of response are you hoping for?** A solution, guidance, approval, resources?\n",
            "\n",
            "In the meantime, here are some general meanings and potential uses of \"escalate\":\n",
            "\n",
            "**General Meanings:**\n",
            "\n",
            "*   **To increase in intensity or seriousness:** \"The conflict escalated quickly.\"\n",
            "*   **To raise to a higher level or authority:** \"I had to escalate the issue to my supervisor.\"\n",
            "*   **To increase in amount or size:** \"The price of fuel escalated dramatically.\"\n",
            "\n",
            "**Potential Actions you might need based on Escalation:**\n",
            "\n",
            "*   **Communicate the Escalation:** Verbally or in writing, explain the situation and why it needs escalation to whomever you escalate to.\n",
            "*   **Prepare Documentation:** Compile all relevant information, data, and history related to the issue.\n",
            "*   **Outline Proposed Solutions:** If possible, include any solutions that you've tried or potential solutions that you're aware of.\n",
            "*   **Define Expected Outcomes:** Clearly describe the desired results after escalation.\n",
            "*   **Update Involved Parties:** Keep the original stakeholders informed about the escalation and its progress.\n",
            "*   **Monitor the Escalation:** Track the escalation process and follow up as needed.\n",
            "\n",
            "Once you give me a context, I will provide a more specific and helpful answer.\n",
            "\n"
          ]
        }
      ]
    },
    {
      "cell_type": "code",
      "source": [
        "from agents import Agent, handoff\n",
        "from agents.extensions import handoff_filters\n",
        "\n",
        "agent = Agent(name=\"FAQ agent\",model=model)\n",
        "\n",
        "handoff_obj = handoff(\n",
        "    agent=agent,\n",
        "    input_filter=handoff_filters.remove_all_tools,\n",
        ")"
      ],
      "metadata": {
        "id": "u_9V9Kb1xMzT"
      },
      "execution_count": 32,
      "outputs": []
    },
    {
      "cell_type": "code",
      "source": [
        "async def run_escalation():\n",
        "    # Await the result of the asynchronous Runner.run method\n",
        "    result = await Runner.run(agent, input=\"escalate\")\n",
        "    print(result)\n",
        "    print(result.final_output)\n",
        "\n",
        "# Run the async function\n",
        "asyncio.run(run_escalation())"
      ],
      "metadata": {
        "colab": {
          "base_uri": "https://localhost:8080/"
        },
        "id": "tnzLQdHQxXKk",
        "outputId": "673a21fa-1c83-4f68-da23-61e147801d37"
      },
      "execution_count": 33,
      "outputs": [
        {
          "output_type": "stream",
          "name": "stdout",
          "text": [
            "Creating trace Agent workflow with id trace_066b8f5ea5c54ba5ae46e84bcf73c62d\n",
            "Creating trace Agent workflow with id trace_066b8f5ea5c54ba5ae46e84bcf73c62d\n"
          ]
        },
        {
          "output_type": "stream",
          "name": "stderr",
          "text": [
            "DEBUG:openai.agents:Creating trace Agent workflow with id trace_066b8f5ea5c54ba5ae46e84bcf73c62d\n"
          ]
        },
        {
          "output_type": "stream",
          "name": "stdout",
          "text": [
            "Setting current trace: trace_066b8f5ea5c54ba5ae46e84bcf73c62d\n",
            "Setting current trace: trace_066b8f5ea5c54ba5ae46e84bcf73c62d\n"
          ]
        },
        {
          "output_type": "stream",
          "name": "stderr",
          "text": [
            "DEBUG:openai.agents:Setting current trace: trace_066b8f5ea5c54ba5ae46e84bcf73c62d\n"
          ]
        },
        {
          "output_type": "stream",
          "name": "stdout",
          "text": [
            "Creating span <agents.tracing.span_data.AgentSpanData object at 0x79445d5f4110> with id None\n",
            "Creating span <agents.tracing.span_data.AgentSpanData object at 0x79445d5f4110> with id None\n"
          ]
        },
        {
          "output_type": "stream",
          "name": "stderr",
          "text": [
            "DEBUG:openai.agents:Creating span <agents.tracing.span_data.AgentSpanData object at 0x79445d5f4110> with id None\n"
          ]
        },
        {
          "output_type": "stream",
          "name": "stdout",
          "text": [
            "Running agent FAQ agent (turn 1)\n",
            "Running agent FAQ agent (turn 1)\n"
          ]
        },
        {
          "output_type": "stream",
          "name": "stderr",
          "text": [
            "DEBUG:openai.agents:Running agent FAQ agent (turn 1)\n"
          ]
        },
        {
          "output_type": "stream",
          "name": "stdout",
          "text": [
            "Creating span <agents.tracing.span_data.GenerationSpanData object at 0x79445e2884d0> with id None\n",
            "Creating span <agents.tracing.span_data.GenerationSpanData object at 0x79445e2884d0> with id None\n"
          ]
        },
        {
          "output_type": "stream",
          "name": "stderr",
          "text": [
            "DEBUG:openai.agents:Creating span <agents.tracing.span_data.GenerationSpanData object at 0x79445e2884d0> with id None\n"
          ]
        },
        {
          "output_type": "stream",
          "name": "stdout",
          "text": [
            "[\n",
            "  {\n",
            "    \"role\": \"user\",\n",
            "    \"content\": \"escalate\"\n",
            "  }\n",
            "]\n",
            "Tools:\n",
            "[]\n",
            "Stream: False\n",
            "Tool choice: NOT_GIVEN\n",
            "Response format: NOT_GIVEN\n",
            "\n",
            "[\n",
            "  {\n",
            "    \"role\": \"user\",\n",
            "    \"content\": \"escalate\"\n",
            "  }\n",
            "]\n",
            "Tools:\n",
            "[]\n",
            "Stream: False\n",
            "Tool choice: NOT_GIVEN\n",
            "Response format: NOT_GIVEN\n",
            "\n"
          ]
        },
        {
          "output_type": "stream",
          "name": "stderr",
          "text": [
            "DEBUG:openai.agents:[\n",
            "  {\n",
            "    \"role\": \"user\",\n",
            "    \"content\": \"escalate\"\n",
            "  }\n",
            "]\n",
            "Tools:\n",
            "[]\n",
            "Stream: False\n",
            "Tool choice: NOT_GIVEN\n",
            "Response format: NOT_GIVEN\n",
            "\n"
          ]
        },
        {
          "output_type": "stream",
          "name": "stdout",
          "text": [
            "LLM resp:\n",
            "{\n",
            "  \"content\": \"Okay, I understand you want me to \\\"escalate\\\" something. To help me do that effectively, I need more information.  What exactly do you want me to escalate? Please tell me:\\n\\n*   **What is the situation?** Give me the context. What's happening? What's the problem?\\n*   **Who/What is involved?** Who or what are we escalating this *to*? Do you want me to escalate to a manager, a different department, a higher authority, a different system, a different service?\\n*   **Why do you want to escalate it?** What's the reason for escalation? What's the desired outcome? Why is the current situation not sufficient?\\n*   **What information do I have available?** What information can I use to make a good case for escalating this?\\n\\nFor example, you could say:\\n\\n*   \\\"Escalate this customer support ticket to a Tier 2 agent because the customer is experiencing a critical system outage and Tier 1 troubleshooting hasn't resolved the issue.\\\"\\n*   \\\"Escalate this code review to the senior architect because it involves changes to a core component.\\\"\\n*   \\\"Escalate this complaint to the manager because the employee has violated company policy multiple times.\\\"\\n\\nThe more information you provide, the better I can understand your request and respond appropriately.\",\n",
            "  \"refusal\": null,\n",
            "  \"role\": \"assistant\",\n",
            "  \"annotations\": null,\n",
            "  \"audio\": null,\n",
            "  \"function_call\": null,\n",
            "  \"tool_calls\": null\n",
            "}\n",
            "\n",
            "LLM resp:\n",
            "{\n",
            "  \"content\": \"Okay, I understand you want me to \\\"escalate\\\" something. To help me do that effectively, I need more information.  What exactly do you want me to escalate? Please tell me:\\n\\n*   **What is the situation?** Give me the context. What's happening? What's the problem?\\n*   **Who/What is involved?** Who or what are we escalating this *to*? Do you want me to escalate to a manager, a different department, a higher authority, a different system, a different service?\\n*   **Why do you want to escalate it?** What's the reason for escalation? What's the desired outcome? Why is the current situation not sufficient?\\n*   **What information do I have available?** What information can I use to make a good case for escalating this?\\n\\nFor example, you could say:\\n\\n*   \\\"Escalate this customer support ticket to a Tier 2 agent because the customer is experiencing a critical system outage and Tier 1 troubleshooting hasn't resolved the issue.\\\"\\n*   \\\"Escalate this code review to the senior architect because it involves changes to a core component.\\\"\\n*   \\\"Escalate this complaint to the manager because the employee has violated company policy multiple times.\\\"\\n\\nThe more information you provide, the better I can understand your request and respond appropriately.\",\n",
            "  \"refusal\": null,\n",
            "  \"role\": \"assistant\",\n",
            "  \"annotations\": null,\n",
            "  \"audio\": null,\n",
            "  \"function_call\": null,\n",
            "  \"tool_calls\": null\n",
            "}\n",
            "\n"
          ]
        },
        {
          "output_type": "stream",
          "name": "stderr",
          "text": [
            "DEBUG:openai.agents:LLM resp:\n",
            "{\n",
            "  \"content\": \"Okay, I understand you want me to \\\"escalate\\\" something. To help me do that effectively, I need more information.  What exactly do you want me to escalate? Please tell me:\\n\\n*   **What is the situation?** Give me the context. What's happening? What's the problem?\\n*   **Who/What is involved?** Who or what are we escalating this *to*? Do you want me to escalate to a manager, a different department, a higher authority, a different system, a different service?\\n*   **Why do you want to escalate it?** What's the reason for escalation? What's the desired outcome? Why is the current situation not sufficient?\\n*   **What information do I have available?** What information can I use to make a good case for escalating this?\\n\\nFor example, you could say:\\n\\n*   \\\"Escalate this customer support ticket to a Tier 2 agent because the customer is experiencing a critical system outage and Tier 1 troubleshooting hasn't resolved the issue.\\\"\\n*   \\\"Escalate this code review to the senior architect because it involves changes to a core component.\\\"\\n*   \\\"Escalate this complaint to the manager because the employee has violated company policy multiple times.\\\"\\n\\nThe more information you provide, the better I can understand your request and respond appropriately.\",\n",
            "  \"refusal\": null,\n",
            "  \"role\": \"assistant\",\n",
            "  \"annotations\": null,\n",
            "  \"audio\": null,\n",
            "  \"function_call\": null,\n",
            "  \"tool_calls\": null\n",
            "}\n",
            "\n"
          ]
        },
        {
          "output_type": "stream",
          "name": "stdout",
          "text": [
            "Resetting current trace\n",
            "Resetting current trace\n"
          ]
        },
        {
          "output_type": "stream",
          "name": "stderr",
          "text": [
            "DEBUG:openai.agents:Resetting current trace\n"
          ]
        },
        {
          "output_type": "stream",
          "name": "stdout",
          "text": [
            "RunResult:\n",
            "- Last agent: Agent(name=\"FAQ agent\", ...)\n",
            "- Final output (str):\n",
            "    Okay, I understand you want me to \"escalate\" something. To help me do that effectively, I need more information.  What exactly do you want me to escalate? Please tell me:\n",
            "    \n",
            "    *   **What is the situation?** Give me the context. What's happening? What's the problem?\n",
            "    *   **Who/What is involved?** Who or what are we escalating this *to*? Do you want me to escalate to a manager, a different department, a higher authority, a different system, a different service?\n",
            "    *   **Why do you want to escalate it?** What's the reason for escalation? What's the desired outcome? Why is the current situation not sufficient?\n",
            "    *   **What information do I have available?** What information can I use to make a good case for escalating this?\n",
            "    \n",
            "    For example, you could say:\n",
            "    \n",
            "    *   \"Escalate this customer support ticket to a Tier 2 agent because the customer is experiencing a critical system outage and Tier 1 troubleshooting hasn't resolved the issue.\"\n",
            "    *   \"Escalate this code review to the senior architect because it involves changes to a core component.\"\n",
            "    *   \"Escalate this complaint to the manager because the employee has violated company policy multiple times.\"\n",
            "    \n",
            "    The more information you provide, the better I can understand your request and respond appropriately.\n",
            "- 1 new item(s)\n",
            "- 1 raw response(s)\n",
            "- 0 input guardrail result(s)\n",
            "- 0 output guardrail result(s)\n",
            "(See `RunResult` for more details)\n",
            "Okay, I understand you want me to \"escalate\" something. To help me do that effectively, I need more information.  What exactly do you want me to escalate? Please tell me:\n",
            "\n",
            "*   **What is the situation?** Give me the context. What's happening? What's the problem?\n",
            "*   **Who/What is involved?** Who or what are we escalating this *to*? Do you want me to escalate to a manager, a different department, a higher authority, a different system, a different service?\n",
            "*   **Why do you want to escalate it?** What's the reason for escalation? What's the desired outcome? Why is the current situation not sufficient?\n",
            "*   **What information do I have available?** What information can I use to make a good case for escalating this?\n",
            "\n",
            "For example, you could say:\n",
            "\n",
            "*   \"Escalate this customer support ticket to a Tier 2 agent because the customer is experiencing a critical system outage and Tier 1 troubleshooting hasn't resolved the issue.\"\n",
            "*   \"Escalate this code review to the senior architect because it involves changes to a core component.\"\n",
            "*   \"Escalate this complaint to the manager because the employee has violated company policy multiple times.\"\n",
            "\n",
            "The more information you provide, the better I can understand your request and respond appropriately.\n"
          ]
        }
      ]
    },
    {
      "cell_type": "code",
      "source": [
        "from pydantic import BaseModel\n",
        "from agents import (\n",
        "    Agent,\n",
        "    GuardrailFunctionOutput,\n",
        "    InputGuardrailTripwireTriggered,\n",
        "    RunContextWrapper,\n",
        "    Runner,\n",
        "    TResponseInputItem,\n",
        "    input_guardrail,\n",
        ")\n",
        "\n",
        "class ScienceHomeworkOutput(BaseModel):\n",
        "    is_science_homework: bool\n",
        "    reasoning: str\n",
        "\n",
        "guardrail_agent = Agent(\n",
        "    name=\"Guardrail check\",\n",
        "    instructions=\"Check if the user is asking you to do their Science homework.\",\n",
        "    output_type=ScienceHomeworkOutput,\n",
        "    model=model\n",
        ")\n",
        "\n",
        "\n",
        "@input_guardrail\n",
        "async def science_guardrail(\n",
        "    ctx: RunContextWrapper[None], agent: Agent, input: str | list[TResponseInputItem]\n",
        ") -> GuardrailFunctionOutput:\n",
        "    result = await Runner.run(guardrail_agent, input, context=ctx.context)\n",
        "\n",
        "    return GuardrailFunctionOutput(\n",
        "        output_info=result.final_output,\n",
        "        tripwire_triggered=result.final_output.is_science_homework,\n",
        "    )\n",
        "\n",
        "\n",
        "agent = Agent(\n",
        "    name=\"Customer support agent\",\n",
        "    instructions=\"You are a customer support agent. You help customers with their questions.\",\n",
        "    input_guardrails=[science_guardrail],\n",
        "    model=model\n",
        ")\n",
        "\n",
        "async def main2():\n",
        "    # This should trip the guardrail\n",
        "    try:\n",
        "        await Runner.run(agent, \"Hello, can you help me about mitocondrea ?\")\n",
        "        print(\"Guardrail didn't trip - this is unexpected\")\n",
        "\n",
        "    except InputGuardrailTripwireTriggered:\n",
        "        print(\"Scienc homework guardrail tripped\")"
      ],
      "metadata": {
        "id": "xsQv4vpxyow-"
      },
      "execution_count": 35,
      "outputs": []
    },
    {
      "cell_type": "code",
      "source": [
        "if __name__ == \"__main__\":\n",
        "    asyncio.run(main2())"
      ],
      "metadata": {
        "colab": {
          "base_uri": "https://localhost:8080/"
        },
        "id": "L-STM9Zh-upB",
        "outputId": "96fa4ad5-957e-450b-b3d7-ff839443f84d"
      },
      "execution_count": 36,
      "outputs": [
        {
          "output_type": "stream",
          "name": "stdout",
          "text": [
            "Tracing is disabled. Not creating trace Agent workflow\n"
          ]
        },
        {
          "output_type": "stream",
          "name": "stderr",
          "text": [
            "DEBUG:openai.agents:Tracing is disabled. Not creating trace Agent workflow\n"
          ]
        },
        {
          "output_type": "stream",
          "name": "stdout",
          "text": [
            "Setting current trace: no-op\n"
          ]
        },
        {
          "output_type": "stream",
          "name": "stderr",
          "text": [
            "DEBUG:openai.agents:Setting current trace: no-op\n"
          ]
        },
        {
          "output_type": "stream",
          "name": "stdout",
          "text": [
            "Tracing is disabled. Not creating span <agents.tracing.span_data.AgentSpanData object at 0x7d372b67a150>\n"
          ]
        },
        {
          "output_type": "stream",
          "name": "stderr",
          "text": [
            "DEBUG:openai.agents:Tracing is disabled. Not creating span <agents.tracing.span_data.AgentSpanData object at 0x7d372b67a150>\n"
          ]
        },
        {
          "output_type": "stream",
          "name": "stdout",
          "text": [
            "Running agent Customer support agent (turn 1)\n"
          ]
        },
        {
          "output_type": "stream",
          "name": "stderr",
          "text": [
            "DEBUG:openai.agents:Running agent Customer support agent (turn 1)\n"
          ]
        },
        {
          "output_type": "stream",
          "name": "stdout",
          "text": [
            "Tracing is disabled. Not creating span <agents.tracing.span_data.GuardrailSpanData object at 0x7d372b74c910>\n"
          ]
        },
        {
          "output_type": "stream",
          "name": "stderr",
          "text": [
            "DEBUG:openai.agents:Tracing is disabled. Not creating span <agents.tracing.span_data.GuardrailSpanData object at 0x7d372b74c910>\n"
          ]
        },
        {
          "output_type": "stream",
          "name": "stdout",
          "text": [
            "Tracing is disabled. Not creating span <agents.tracing.span_data.AgentSpanData object at 0x7d372b67b650>\n"
          ]
        },
        {
          "output_type": "stream",
          "name": "stderr",
          "text": [
            "DEBUG:openai.agents:Tracing is disabled. Not creating span <agents.tracing.span_data.AgentSpanData object at 0x7d372b67b650>\n"
          ]
        },
        {
          "output_type": "stream",
          "name": "stdout",
          "text": [
            "Running agent Guardrail check (turn 1)\n"
          ]
        },
        {
          "output_type": "stream",
          "name": "stderr",
          "text": [
            "DEBUG:openai.agents:Running agent Guardrail check (turn 1)\n"
          ]
        },
        {
          "output_type": "stream",
          "name": "stdout",
          "text": [
            "Tracing is disabled. Not creating span <agents.tracing.span_data.GenerationSpanData object at 0x7d3732988650>\n"
          ]
        },
        {
          "output_type": "stream",
          "name": "stderr",
          "text": [
            "DEBUG:openai.agents:Tracing is disabled. Not creating span <agents.tracing.span_data.GenerationSpanData object at 0x7d3732988650>\n"
          ]
        },
        {
          "output_type": "stream",
          "name": "stdout",
          "text": [
            "[\n",
            "  {\n",
            "    \"content\": \"You are a customer support agent. You help customers with their questions.\",\n",
            "    \"role\": \"system\"\n",
            "  },\n",
            "  {\n",
            "    \"role\": \"user\",\n",
            "    \"content\": \"Hello, can you help me about mitocondrea ?\"\n",
            "  }\n",
            "]\n",
            "Tools:\n",
            "[]\n",
            "Stream: False\n",
            "Tool choice: NOT_GIVEN\n",
            "Response format: NOT_GIVEN\n",
            "\n"
          ]
        },
        {
          "output_type": "stream",
          "name": "stderr",
          "text": [
            "DEBUG:openai.agents:[\n",
            "  {\n",
            "    \"content\": \"You are a customer support agent. You help customers with their questions.\",\n",
            "    \"role\": \"system\"\n",
            "  },\n",
            "  {\n",
            "    \"role\": \"user\",\n",
            "    \"content\": \"Hello, can you help me about mitocondrea ?\"\n",
            "  }\n",
            "]\n",
            "Tools:\n",
            "[]\n",
            "Stream: False\n",
            "Tool choice: NOT_GIVEN\n",
            "Response format: NOT_GIVEN\n",
            "\n"
          ]
        },
        {
          "output_type": "stream",
          "name": "stdout",
          "text": [
            "Tracing is disabled. Not creating span <agents.tracing.span_data.GenerationSpanData object at 0x7d372b67a390>\n"
          ]
        },
        {
          "output_type": "stream",
          "name": "stderr",
          "text": [
            "DEBUG:openai.agents:Tracing is disabled. Not creating span <agents.tracing.span_data.GenerationSpanData object at 0x7d372b67a390>\n"
          ]
        },
        {
          "output_type": "stream",
          "name": "stdout",
          "text": [
            "[\n",
            "  {\n",
            "    \"content\": \"Check if the user is asking you to do their Science homework.\",\n",
            "    \"role\": \"system\"\n",
            "  },\n",
            "  {\n",
            "    \"role\": \"user\",\n",
            "    \"content\": \"Hello, can you help me about mitocondrea ?\"\n",
            "  }\n",
            "]\n",
            "Tools:\n",
            "[]\n",
            "Stream: False\n",
            "Tool choice: NOT_GIVEN\n",
            "Response format: {'type': 'json_schema', 'json_schema': {'name': 'final_output', 'strict': True, 'schema': {'properties': {'is_science_homework': {'title': 'Is Science Homework', 'type': 'boolean'}, 'reasoning': {'title': 'Reasoning', 'type': 'string'}}, 'required': ['is_science_homework', 'reasoning'], 'title': 'ScienceHomeworkOutput', 'type': 'object', 'additionalProperties': False}}}\n",
            "\n"
          ]
        },
        {
          "output_type": "stream",
          "name": "stderr",
          "text": [
            "DEBUG:openai.agents:[\n",
            "  {\n",
            "    \"content\": \"Check if the user is asking you to do their Science homework.\",\n",
            "    \"role\": \"system\"\n",
            "  },\n",
            "  {\n",
            "    \"role\": \"user\",\n",
            "    \"content\": \"Hello, can you help me about mitocondrea ?\"\n",
            "  }\n",
            "]\n",
            "Tools:\n",
            "[]\n",
            "Stream: False\n",
            "Tool choice: NOT_GIVEN\n",
            "Response format: {'type': 'json_schema', 'json_schema': {'name': 'final_output', 'strict': True, 'schema': {'properties': {'is_science_homework': {'title': 'Is Science Homework', 'type': 'boolean'}, 'reasoning': {'title': 'Reasoning', 'type': 'string'}}, 'required': ['is_science_homework', 'reasoning'], 'title': 'ScienceHomeworkOutput', 'type': 'object', 'additionalProperties': False}}}\n",
            "\n"
          ]
        },
        {
          "output_type": "stream",
          "name": "stdout",
          "text": [
            "LLM resp:\n",
            "{\n",
            "  \"content\": \"{\\n  \\\"is_science_homework\\\": true,\\n  \\\"reasoning\\\": \\\"The user is asking a question about mitochondria, which is a topic commonly covered in science classes, particularly biology.\\\"\\n}\",\n",
            "  \"refusal\": null,\n",
            "  \"role\": \"assistant\",\n",
            "  \"annotations\": null,\n",
            "  \"audio\": null,\n",
            "  \"function_call\": null,\n",
            "  \"tool_calls\": null\n",
            "}\n",
            "\n"
          ]
        },
        {
          "output_type": "stream",
          "name": "stderr",
          "text": [
            "DEBUG:openai.agents:LLM resp:\n",
            "{\n",
            "  \"content\": \"{\\n  \\\"is_science_homework\\\": true,\\n  \\\"reasoning\\\": \\\"The user is asking a question about mitochondria, which is a topic commonly covered in science classes, particularly biology.\\\"\\n}\",\n",
            "  \"refusal\": null,\n",
            "  \"role\": \"assistant\",\n",
            "  \"annotations\": null,\n",
            "  \"audio\": null,\n",
            "  \"function_call\": null,\n",
            "  \"tool_calls\": null\n",
            "}\n",
            "\n"
          ]
        },
        {
          "output_type": "stream",
          "name": "stdout",
          "text": [
            "Resetting current trace\n"
          ]
        },
        {
          "output_type": "stream",
          "name": "stderr",
          "text": [
            "DEBUG:openai.agents:Resetting current trace\n"
          ]
        },
        {
          "output_type": "stream",
          "name": "stdout",
          "text": [
            "Math homework guardrail tripped\n"
          ]
        }
      ]
    },
    {
      "cell_type": "code",
      "source": [
        "from pydantic import BaseModel\n",
        "from agents import (\n",
        "    Agent,\n",
        "    GuardrailFunctionOutput,\n",
        "    OutputGuardrailTripwireTriggered,\n",
        "    RunContextWrapper,\n",
        "    Runner,\n",
        "    output_guardrail,\n",
        ")\n",
        "class MessageOutput(BaseModel):\n",
        "    response: str\n",
        "\n",
        "class MathOutput(BaseModel):\n",
        "    reasoning: str\n",
        "    is_math: bool\n",
        "\n",
        "guardrail_agent = Agent(\n",
        "    name=\"Guardrail check\",\n",
        "    instructions=\"Check if the output includes any math.\",\n",
        "    output_type=MathOutput,\n",
        "    model=model\n",
        ")\n",
        "\n",
        "@output_guardrail\n",
        "async def math_guardrail(\n",
        "    ctx: RunContextWrapper, customer_agent: Agent, output: MessageOutput\n",
        ") -> GuardrailFunctionOutput:\n",
        "    result = await Runner.run(starting_agent=guardrail_agent, input=output.response, context=ctx.context)\n",
        "\n",
        "    return GuardrailFunctionOutput(\n",
        "        output_info=result.final_output,\n",
        "        tripwire_triggered=result.final_output.is_math,\n",
        "    )\n",
        "\n",
        "customer_agent = Agent(\n",
        "    name=\"Customer support agent\",\n",
        "    instructions=\"You are a customer support agent. You help customers with their questions.\",\n",
        "    output_guardrails=[math_guardrail],\n",
        "    output_type=MessageOutput,\n",
        "    model=model\n",
        ")\n",
        "\n",
        "async def main3():\n",
        "    # This should trip the guardrail\n",
        "    try:\n",
        "        await Runner.run(customer_agent, \"Hello, can you help me solve for x: 2x + 3 = 11?\")\n",
        "        print(\"Guardrail didn't trip - this is unexpected\")\n",
        "\n",
        "    except OutputGuardrailTripwireTriggered:\n",
        "        print(\"Math output guardrail tripped\")"
      ],
      "metadata": {
        "id": "VbBFQq3KzzRK"
      },
      "execution_count": 46,
      "outputs": []
    },
    {
      "cell_type": "code",
      "source": [
        "# prompt: generate a method asynio to run main if __name__\n",
        "\n",
        "if __name__ == \"__main__\":\n",
        "    asyncio.run(main3())\n"
      ],
      "metadata": {
        "colab": {
          "base_uri": "https://localhost:8080/"
        },
        "id": "DPXN0kpv0XvN",
        "outputId": "c40aa3d0-4faa-4eaf-dc3b-ee8ea9b60f28"
      },
      "execution_count": 47,
      "outputs": [
        {
          "output_type": "stream",
          "name": "stdout",
          "text": [
            "Tracing is disabled. Not creating trace Agent workflow\n"
          ]
        },
        {
          "output_type": "stream",
          "name": "stderr",
          "text": [
            "DEBUG:openai.agents:Tracing is disabled. Not creating trace Agent workflow\n"
          ]
        },
        {
          "output_type": "stream",
          "name": "stdout",
          "text": [
            "Setting current trace: no-op\n"
          ]
        },
        {
          "output_type": "stream",
          "name": "stderr",
          "text": [
            "DEBUG:openai.agents:Setting current trace: no-op\n"
          ]
        },
        {
          "output_type": "stream",
          "name": "stdout",
          "text": [
            "Tracing is disabled. Not creating span <agents.tracing.span_data.AgentSpanData object at 0x7d372b60fbf0>\n"
          ]
        },
        {
          "output_type": "stream",
          "name": "stderr",
          "text": [
            "DEBUG:openai.agents:Tracing is disabled. Not creating span <agents.tracing.span_data.AgentSpanData object at 0x7d372b60fbf0>\n"
          ]
        },
        {
          "output_type": "stream",
          "name": "stdout",
          "text": [
            "Running agent Customer support agent (turn 1)\n"
          ]
        },
        {
          "output_type": "stream",
          "name": "stderr",
          "text": [
            "DEBUG:openai.agents:Running agent Customer support agent (turn 1)\n"
          ]
        },
        {
          "output_type": "stream",
          "name": "stdout",
          "text": [
            "Tracing is disabled. Not creating span <agents.tracing.span_data.GenerationSpanData object at 0x7d372b60fd10>\n"
          ]
        },
        {
          "output_type": "stream",
          "name": "stderr",
          "text": [
            "DEBUG:openai.agents:Tracing is disabled. Not creating span <agents.tracing.span_data.GenerationSpanData object at 0x7d372b60fd10>\n"
          ]
        },
        {
          "output_type": "stream",
          "name": "stdout",
          "text": [
            "[\n",
            "  {\n",
            "    \"content\": \"You are a customer support agent. You help customers with their questions.\",\n",
            "    \"role\": \"system\"\n",
            "  },\n",
            "  {\n",
            "    \"role\": \"user\",\n",
            "    \"content\": \"Hello, can you help me solve for x: 2x + 3 = 11?\"\n",
            "  }\n",
            "]\n",
            "Tools:\n",
            "[]\n",
            "Stream: False\n",
            "Tool choice: NOT_GIVEN\n",
            "Response format: {'type': 'json_schema', 'json_schema': {'name': 'final_output', 'strict': True, 'schema': {'properties': {'response': {'title': 'Response', 'type': 'string'}}, 'required': ['response'], 'title': 'MessageOutput', 'type': 'object', 'additionalProperties': False}}}\n",
            "\n"
          ]
        },
        {
          "output_type": "stream",
          "name": "stderr",
          "text": [
            "DEBUG:openai.agents:[\n",
            "  {\n",
            "    \"content\": \"You are a customer support agent. You help customers with their questions.\",\n",
            "    \"role\": \"system\"\n",
            "  },\n",
            "  {\n",
            "    \"role\": \"user\",\n",
            "    \"content\": \"Hello, can you help me solve for x: 2x + 3 = 11?\"\n",
            "  }\n",
            "]\n",
            "Tools:\n",
            "[]\n",
            "Stream: False\n",
            "Tool choice: NOT_GIVEN\n",
            "Response format: {'type': 'json_schema', 'json_schema': {'name': 'final_output', 'strict': True, 'schema': {'properties': {'response': {'title': 'Response', 'type': 'string'}}, 'required': ['response'], 'title': 'MessageOutput', 'type': 'object', 'additionalProperties': False}}}\n",
            "\n"
          ]
        },
        {
          "output_type": "stream",
          "name": "stdout",
          "text": [
            "LLM resp:\n",
            "{\n",
            "  \"content\": \"{\\n  \\\"response\\\": \\\"Sure! To solve for x in the equation 2x + 3 = 11, we need to isolate x. First, subtract 3 from both sides of the equation, which gives us 2x = 8. Then, divide both sides by 2, which gives us x = 4.\\\"\\n}\",\n",
            "  \"refusal\": null,\n",
            "  \"role\": \"assistant\",\n",
            "  \"annotations\": null,\n",
            "  \"audio\": null,\n",
            "  \"function_call\": null,\n",
            "  \"tool_calls\": null\n",
            "}\n",
            "\n"
          ]
        },
        {
          "output_type": "stream",
          "name": "stderr",
          "text": [
            "DEBUG:openai.agents:LLM resp:\n",
            "{\n",
            "  \"content\": \"{\\n  \\\"response\\\": \\\"Sure! To solve for x in the equation 2x + 3 = 11, we need to isolate x. First, subtract 3 from both sides of the equation, which gives us 2x = 8. Then, divide both sides by 2, which gives us x = 4.\\\"\\n}\",\n",
            "  \"refusal\": null,\n",
            "  \"role\": \"assistant\",\n",
            "  \"annotations\": null,\n",
            "  \"audio\": null,\n",
            "  \"function_call\": null,\n",
            "  \"tool_calls\": null\n",
            "}\n",
            "\n"
          ]
        },
        {
          "output_type": "stream",
          "name": "stdout",
          "text": [
            "Tracing is disabled. Not creating span <agents.tracing.span_data.GuardrailSpanData object at 0x7d372b634190>\n"
          ]
        },
        {
          "output_type": "stream",
          "name": "stderr",
          "text": [
            "DEBUG:openai.agents:Tracing is disabled. Not creating span <agents.tracing.span_data.GuardrailSpanData object at 0x7d372b634190>\n"
          ]
        },
        {
          "output_type": "stream",
          "name": "stdout",
          "text": [
            "Tracing is disabled. Not creating span <agents.tracing.span_data.AgentSpanData object at 0x7d372b60fa10>\n"
          ]
        },
        {
          "output_type": "stream",
          "name": "stderr",
          "text": [
            "DEBUG:openai.agents:Tracing is disabled. Not creating span <agents.tracing.span_data.AgentSpanData object at 0x7d372b60fa10>\n"
          ]
        },
        {
          "output_type": "stream",
          "name": "stdout",
          "text": [
            "Running agent Guardrail check (turn 1)\n"
          ]
        },
        {
          "output_type": "stream",
          "name": "stderr",
          "text": [
            "DEBUG:openai.agents:Running agent Guardrail check (turn 1)\n"
          ]
        },
        {
          "output_type": "stream",
          "name": "stdout",
          "text": [
            "Tracing is disabled. Not creating span <agents.tracing.span_data.GenerationSpanData object at 0x7d372b60ff50>\n"
          ]
        },
        {
          "output_type": "stream",
          "name": "stderr",
          "text": [
            "DEBUG:openai.agents:Tracing is disabled. Not creating span <agents.tracing.span_data.GenerationSpanData object at 0x7d372b60ff50>\n"
          ]
        },
        {
          "output_type": "stream",
          "name": "stdout",
          "text": [
            "[\n",
            "  {\n",
            "    \"content\": \"Check if the output includes any math.\",\n",
            "    \"role\": \"system\"\n",
            "  },\n",
            "  {\n",
            "    \"role\": \"user\",\n",
            "    \"content\": \"Sure! To solve for x in the equation 2x + 3 = 11, we need to isolate x. First, subtract 3 from both sides of the equation, which gives us 2x = 8. Then, divide both sides by 2, which gives us x = 4.\"\n",
            "  }\n",
            "]\n",
            "Tools:\n",
            "[]\n",
            "Stream: False\n",
            "Tool choice: NOT_GIVEN\n",
            "Response format: {'type': 'json_schema', 'json_schema': {'name': 'final_output', 'strict': True, 'schema': {'properties': {'reasoning': {'title': 'Reasoning', 'type': 'string'}, 'is_math': {'title': 'Is Math', 'type': 'boolean'}}, 'required': ['reasoning', 'is_math'], 'title': 'MathOutput', 'type': 'object', 'additionalProperties': False}}}\n",
            "\n"
          ]
        },
        {
          "output_type": "stream",
          "name": "stderr",
          "text": [
            "DEBUG:openai.agents:[\n",
            "  {\n",
            "    \"content\": \"Check if the output includes any math.\",\n",
            "    \"role\": \"system\"\n",
            "  },\n",
            "  {\n",
            "    \"role\": \"user\",\n",
            "    \"content\": \"Sure! To solve for x in the equation 2x + 3 = 11, we need to isolate x. First, subtract 3 from both sides of the equation, which gives us 2x = 8. Then, divide both sides by 2, which gives us x = 4.\"\n",
            "  }\n",
            "]\n",
            "Tools:\n",
            "[]\n",
            "Stream: False\n",
            "Tool choice: NOT_GIVEN\n",
            "Response format: {'type': 'json_schema', 'json_schema': {'name': 'final_output', 'strict': True, 'schema': {'properties': {'reasoning': {'title': 'Reasoning', 'type': 'string'}, 'is_math': {'title': 'Is Math', 'type': 'boolean'}}, 'required': ['reasoning', 'is_math'], 'title': 'MathOutput', 'type': 'object', 'additionalProperties': False}}}\n",
            "\n"
          ]
        },
        {
          "output_type": "stream",
          "name": "stdout",
          "text": [
            "LLM resp:\n",
            "{\n",
            "  \"content\": \"{\\n  \\\"is_math\\\": true,\\n  \\\"reasoning\\\": \\\"The response includes solving an equation which involves mathematical operations and concepts.\\\"\\n}\",\n",
            "  \"refusal\": null,\n",
            "  \"role\": \"assistant\",\n",
            "  \"annotations\": null,\n",
            "  \"audio\": null,\n",
            "  \"function_call\": null,\n",
            "  \"tool_calls\": null\n",
            "}\n",
            "\n"
          ]
        },
        {
          "output_type": "stream",
          "name": "stderr",
          "text": [
            "DEBUG:openai.agents:LLM resp:\n",
            "{\n",
            "  \"content\": \"{\\n  \\\"is_math\\\": true,\\n  \\\"reasoning\\\": \\\"The response includes solving an equation which involves mathematical operations and concepts.\\\"\\n}\",\n",
            "  \"refusal\": null,\n",
            "  \"role\": \"assistant\",\n",
            "  \"annotations\": null,\n",
            "  \"audio\": null,\n",
            "  \"function_call\": null,\n",
            "  \"tool_calls\": null\n",
            "}\n",
            "\n"
          ]
        },
        {
          "output_type": "stream",
          "name": "stdout",
          "text": [
            "Resetting current trace\n"
          ]
        },
        {
          "output_type": "stream",
          "name": "stderr",
          "text": [
            "DEBUG:openai.agents:Resetting current trace\n"
          ]
        },
        {
          "output_type": "stream",
          "name": "stdout",
          "text": [
            "Math output guardrail tripped\n"
          ]
        }
      ]
    }
  ]
}